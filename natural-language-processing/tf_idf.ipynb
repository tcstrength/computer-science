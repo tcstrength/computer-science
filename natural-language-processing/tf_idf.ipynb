{
 "cells": [
  {
   "cell_type": "markdown",
   "metadata": {},
   "source": [
    "### Introduction\n",
    "TF-IDF or Term Frequency - Inverse Document Frequency is a measure of importance of a word to a document. The TF-IDF is used in the field of information retrieval and machine learning. \n",
    "\n",
    "### Definition\n",
    "The TF-IDF is the product (element wise) of two statistics, the term frequency and the inverse document frequency.\n",
    "\n",
    "#### Term Frequency\n",
    "\n",
    "The $tf(t, d)$ is the term frequency of term `t` and the document `d`: $tf(d) = f_{t, d} / |d|$\n",
    "\n",
    "__Where:__\n",
    "- $f_{t, d}$ is the frequency of term `t`\n",
    "- $|d|$ is the size of document `d`\n",
    "\n",
    "For example:\n",
    "- Given document `d` = the cats are in the house\n",
    "- $f_{\\text{the}, d} = 2 / 6$\n",
    "- $f_{\\text{cats}, d} = 1 / 6$\n",
    "- $f_{\\text{are}, d} = 1 / 6$\n",
    "- $f_{\\text{in}, d} = 1 / 6$\n",
    "- $f_{\\text{house}, d} = 1 / 6$\n",
    "\n",
    "\n",
    "#### Inverse Document Frequency\n",
    "\n",
    "The $idf(t, D)$ is the inverse document frequency of term `t` and the collection `D`: $idf(d, D) = |D| / |{d \\in D : t \\in d}|$\n",
    "\n",
    "__Where:__\n",
    "- $|D|$ is the size of collection\n",
    "- $|{d \\in D : t \\in d}|$ is the number of documents that term `t` appears given the collection `D`\n",
    "\n",
    "\n",
    "#### TF-IDF\n",
    "\n",
    "To compute the TF-IDF of a given document `d` on collection `D`:\n",
    "1. Compute $tf(d) = [tf(t_1, d), tf(t_2, d), ..., tf(t_N, d)]$\n",
    "2. Compute $idf(D) = [idf(t_1, D), idf(t_2, D), ..., idf(t_N, D)$\n",
    "3. $tf-idf = tf * idf$\n",
    "\n",
    "Reference: [Wikipedia](https://en.wikipedia.org/wiki/Tf–idf)\n",
    "\n",
    "---"
   ]
  },
  {
   "cell_type": "markdown",
   "metadata": {},
   "source": [
    "### Compute TF-IDF"
   ]
  },
  {
   "cell_type": "code",
   "execution_count": 2,
   "metadata": {},
   "outputs": [],
   "source": [
    "import numpy as np"
   ]
  },
  {
   "cell_type": "code",
   "execution_count": 10,
   "metadata": {},
   "outputs": [],
   "source": [
    "from typing import List\n",
    "from typing import Dict\n",
    "\n",
    "def build_vocab(D: List[str]):\n",
    "    word2idx = {}\n",
    "    idx2word = []\n",
    "    for d in D:\n",
    "        for w in d.split(\" \"):\n",
    "            if w not in word2idx:\n",
    "                idx = len(idx2word)\n",
    "                word2idx[w] = idx\n",
    "                idx2word.append(w)\n",
    "    return word2idx, idx2word\n",
    "\n",
    "D = [\n",
    "    \"the cats are in the house\",\n",
    "    \"the dogs are in the house and outside\",\n",
    "    \"the cats and the dogs are friends\",\n",
    "]\n",
    "\n",
    "word2idx, idx2word = build_vocab(D)"
   ]
  },
  {
   "cell_type": "code",
   "execution_count": 20,
   "metadata": {},
   "outputs": [
    {
     "name": "stdout",
     "output_type": "stream",
     "text": [
      "Document: the cats are in the house\n",
      "Encoded document: [2 1 1 1 1 0 0 0 0]\n"
     ]
    }
   ],
   "source": [
    "def compute_freq(doc: str, word2idx: Dict[str, int]) -> np.array:\n",
    "    # https://numpy.org/doc/stable/reference/generated/numpy.zeros.html\n",
    "    res = np.zeros(len(word2idx), dtype=np.int32)\n",
    "    for w in doc.split(\" \"):\n",
    "        if w not in word2idx: continue\n",
    "\n",
    "        idx = word2idx[w]\n",
    "        res[idx] += 1\n",
    "\n",
    "    return res\n",
    "\n",
    "freq = compute_freq(D[0], word2idx)\n",
    "print(f\"Document: {D[0]}\")\n",
    "print(f\"Encoded document: {freq}\")"
   ]
  },
  {
   "cell_type": "code",
   "execution_count": 22,
   "metadata": {},
   "outputs": [
    {
     "name": "stdout",
     "output_type": "stream",
     "text": [
      "0 0.3333333333333333\n",
      "1 0.16666666666666666\n",
      "2 0.16666666666666666\n",
      "3 0.16666666666666666\n",
      "4 0.16666666666666666\n",
      "5 0.0\n",
      "6 0.0\n",
      "7 0.0\n",
      "8 0.0\n"
     ]
    }
   ],
   "source": [
    "for i, v in enumerate(freq):\n",
    "    print(i, v/np.sum(freq))"
   ]
  },
  {
   "cell_type": "code",
   "execution_count": 25,
   "metadata": {},
   "outputs": [
    {
     "name": "stdout",
     "output_type": "stream",
     "text": [
      "Document: the cats are in the house\n",
      "TF: [0.33333334 0.16666667 0.16666667 0.16666667 0.16666667 0.\n",
      " 0.         0.         0.        ]\n",
      "Document: the dogs are in the house and outside\n",
      "TF: [0.25  0.    0.125 0.125 0.125 0.125 0.125 0.125 0.   ]\n"
     ]
    }
   ],
   "source": [
    "def compute_tf(d: str, word2idx: Dict[str, int]) -> np.array:\n",
    "    freq = compute_freq(d, word2idx)\n",
    "    tf = np.zeros_like(freq, dtype=np.float32)\n",
    "    size = np.sum(freq)\n",
    "    for i, v in enumerate(freq):\n",
    "        tf[i] = v / size\n",
    "    return tf\n",
    "\n",
    "tf = compute_tf(D[0], word2idx)\n",
    "print(f\"Document: {D[0]}\")\n",
    "print(f\"TF: {tf}\")\n",
    "\n",
    "tf = compute_tf(D[1], word2idx)\n",
    "print(f\"Document: {D[1]}\")\n",
    "print(f\"TF: {tf}\")"
   ]
  },
  {
   "cell_type": "code",
   "execution_count": 41,
   "metadata": {},
   "outputs": [],
   "source": [
    "def compute_idf(D: List[str], word2idx: Dict[str, int]) -> np.array:\n",
    "    N = len(D)\n",
    "    idf = np.zeros(len(word2idx))\n",
    "    for d in D:\n",
    "        f = compute_freq(d, word2idx)\n",
    "        idf = idf + (f > 0)\n",
    "    return np.log(N / idf)"
   ]
  },
  {
   "cell_type": "code",
   "execution_count": 42,
   "metadata": {},
   "outputs": [
    {
     "name": "stdout",
     "output_type": "stream",
     "text": [
      "Document: the cats are in the house\n",
      "TF-IDF: [0.         0.06757752 0.         0.06757752 0.06757752 0.\n",
      " 0.         0.         0.        ]\n"
     ]
    }
   ],
   "source": [
    "idf = compute_idf(D, word2idx)\n",
    "tf = compute_tf(D[0], word2idx)\n",
    "\n",
    "print(f\"Document: {D[0]}\")\n",
    "print(f\"TF-IDF: {tf * idf}\")"
   ]
  },
  {
   "cell_type": "markdown",
   "metadata": {},
   "source": [
    "### Compare two TF-IDF vectors"
   ]
  },
  {
   "cell_type": "code",
   "execution_count": 51,
   "metadata": {},
   "outputs": [],
   "source": [
    "idf = compute_idf(D, word2idx)\n",
    "v0 = compute_tf(D[0], word2idx) * idf\n",
    "v1 = compute_tf(D[1], word2idx) * idf\n",
    "v2 = compute_tf(D[2], word2idx) * idf"
   ]
  },
  {
   "cell_type": "markdown",
   "metadata": {},
   "source": [
    "#### Scalar Product"
   ]
  },
  {
   "cell_type": "code",
   "execution_count": 55,
   "metadata": {},
   "outputs": [
    {
     "name": "stdout",
     "output_type": "stream",
     "text": [
      "D0: the cats are in the house\n",
      "D1: the dogs are in the house and outside\n",
      "Scalar Product: 0.006850081616363562\n",
      "\n",
      "D0: the cats are in the house\n",
      "D1: the cats and the dogs are friends\n",
      "Scalar Product: 0.003914332527192041\n",
      "\n",
      "D0: the dogs are in the house and outside\n",
      "D1: the cats and the dogs are friends\n",
      "Scalar Product: 0.0058714986158037675\n"
     ]
    }
   ],
   "source": [
    "print(f\"D0: {D[0]}\")\n",
    "print(f\"D1: {D[1]}\")\n",
    "print(f\"Scalar Product: {v0.dot(v1.T)}\")\n",
    "print()\n",
    "print(f\"D0: {D[0]}\")\n",
    "print(f\"D1: {D[2]}\")\n",
    "print(f\"Scalar Product: {v0.dot(v2.T)}\")\n",
    "print()\n",
    "print(f\"D0: {D[1]}\")\n",
    "print(f\"D1: {D[2]}\")\n",
    "print(f\"Scalar Product: {v1.dot(v2.T)}\")"
   ]
  },
  {
   "cell_type": "markdown",
   "metadata": {},
   "source": [
    "#### Cosine Similarity"
   ]
  },
  {
   "cell_type": "code",
   "execution_count": 53,
   "metadata": {},
   "outputs": [
    {
     "name": "stdout",
     "output_type": "stream",
     "text": [
      "D0: the cats are in the house\n",
      "D1: the dogs are in the house and outside\n",
      "Cosine Similarity: 0.34287439123039537\n",
      "\n",
      "D0: the cats are in the house\n",
      "D1: the cats and the dogs are friends\n",
      "Cosine Similarity: 0.17953479253880886\n",
      "\n",
      "D0: the dogs are in the house and outside\n",
      "D1: the cats and the dogs are friends\n",
      "Cosine Similarity: 0.1846736480892583\n"
     ]
    }
   ],
   "source": [
    "v0_norm = v0 / np.linalg.norm(v0)\n",
    "v1_norm = v1 / np.linalg.norm(v1)\n",
    "v2_norm = v2 / np.linalg.norm(v2)\n",
    "\n",
    "\n",
    "print(f\"D0: {D[0]}\")\n",
    "print(f\"D1: {D[1]}\")\n",
    "print(f\"Cosine Similarity: {v0_norm.dot(v1_norm.T)}\")\n",
    "print()\n",
    "print(f\"D0: {D[0]}\")\n",
    "print(f\"D1: {D[2]}\")\n",
    "print(f\"Cosine Similarity: {v0_norm.dot(v2_norm.T)}\")\n",
    "print()\n",
    "print(f\"D0: {D[1]}\")\n",
    "print(f\"D1: {D[2]}\")\n",
    "print(f\"Cosine Similarity: {v1_norm.dot(v2_norm.T)}\")"
   ]
  }
 ],
 "metadata": {
  "kernelspec": {
   "display_name": ".venv",
   "language": "python",
   "name": "python3"
  },
  "language_info": {
   "codemirror_mode": {
    "name": "ipython",
    "version": 3
   },
   "file_extension": ".py",
   "mimetype": "text/x-python",
   "name": "python",
   "nbconvert_exporter": "python",
   "pygments_lexer": "ipython3",
   "version": "3.12.0"
  }
 },
 "nbformat": 4,
 "nbformat_minor": 2
}
