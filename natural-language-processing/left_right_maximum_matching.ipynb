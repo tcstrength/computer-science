{
 "cells": [
  {
   "cell_type": "code",
   "execution_count": 4,
   "metadata": {},
   "outputs": [],
   "source": [
    "import pandas as pd"
   ]
  },
  {
   "cell_type": "code",
   "execution_count": 1,
   "metadata": {},
   "outputs": [],
   "source": [
    "input_path = \"/Users/tccuong1404/Library/Mobile Documents/com~apple~CloudDocs/Data/VDic/VDic_uni.txt\""
   ]
  },
  {
   "cell_type": "code",
   "execution_count": 8,
   "metadata": {},
   "outputs": [
    {
     "name": "stderr",
     "output_type": "stream",
     "text": [
      "/var/folders/0w/ykxp38y53_sc7t27_s6hkf0w0000gn/T/ipykernel_75140/1618616622.py:1: ParserWarning: Skipping line 23686: expected 3 fields, saw 5\n",
      "\n",
      "  vdic_df = pd.read_csv(input_path, delimiter=\"\\t\", on_bad_lines=\"warn\")\n"
     ]
    }
   ],
   "source": [
    "vdic_df = pd.read_csv(input_path, delimiter=\"\\t\", on_bad_lines=\"warn\")"
   ]
  },
  {
   "cell_type": "code",
   "execution_count": 14,
   "metadata": {},
   "outputs": [
    {
     "data": {
      "text/html": [
       "<div>\n",
       "<style scoped>\n",
       "    .dataframe tbody tr th:only-of-type {\n",
       "        vertical-align: middle;\n",
       "    }\n",
       "\n",
       "    .dataframe tbody tr th {\n",
       "        vertical-align: top;\n",
       "    }\n",
       "\n",
       "    .dataframe thead th {\n",
       "        text-align: right;\n",
       "    }\n",
       "</style>\n",
       "<table border=\"1\" class=\"dataframe\">\n",
       "  <thead>\n",
       "    <tr style=\"text-align: right;\">\n",
       "      <th></th>\n",
       "      <th>a</th>\n",
       "      <th>Unnamed: 1</th>\n",
       "      <th>Nc, Ng, Vit, I, E</th>\n",
       "    </tr>\n",
       "  </thead>\n",
       "  <tbody>\n",
       "    <tr>\n",
       "      <th>0</th>\n",
       "      <td>A Di Đà Phật</td>\n",
       "      <td>NaN</td>\n",
       "      <td>Np</td>\n",
       "    </tr>\n",
       "    <tr>\n",
       "      <th>1</th>\n",
       "      <td>a-dốt</td>\n",
       "      <td>NaN</td>\n",
       "      <td>Np</td>\n",
       "    </tr>\n",
       "    <tr>\n",
       "      <th>2</th>\n",
       "      <td>a dua</td>\n",
       "      <td>NaN</td>\n",
       "      <td>Vt</td>\n",
       "    </tr>\n",
       "    <tr>\n",
       "      <th>3</th>\n",
       "      <td>a-đrê-na-lin</td>\n",
       "      <td>NaN</td>\n",
       "      <td>Np</td>\n",
       "    </tr>\n",
       "    <tr>\n",
       "      <th>4</th>\n",
       "      <td>a giao</td>\n",
       "      <td>NaN</td>\n",
       "      <td>Nc, Ng</td>\n",
       "    </tr>\n",
       "    <tr>\n",
       "      <th>...</th>\n",
       "      <td>...</td>\n",
       "      <td>...</td>\n",
       "      <td>...</td>\n",
       "    </tr>\n",
       "    <tr>\n",
       "      <th>37457</th>\n",
       "      <td>:</td>\n",
       "      <td>NaN</td>\n",
       "      <td>:</td>\n",
       "    </tr>\n",
       "    <tr>\n",
       "      <th>37458</th>\n",
       "      <td>;</td>\n",
       "      <td>NaN</td>\n",
       "      <td>;</td>\n",
       "    </tr>\n",
       "    <tr>\n",
       "      <th>37459</th>\n",
       "      <td>!</td>\n",
       "      <td>NaN</td>\n",
       "      <td>!</td>\n",
       "    </tr>\n",
       "    <tr>\n",
       "      <th>37460</th>\n",
       "      <td>?isName?</td>\n",
       "      <td>NaN</td>\n",
       "      <td>Np</td>\n",
       "    </tr>\n",
       "    <tr>\n",
       "      <th>37461</th>\n",
       "      <td>?isDigit?</td>\n",
       "      <td>NaN</td>\n",
       "      <td>Nn</td>\n",
       "    </tr>\n",
       "  </tbody>\n",
       "</table>\n",
       "<p>37462 rows × 3 columns</p>\n",
       "</div>"
      ],
      "text/plain": [
       "                  a Unnamed: 1 Nc, Ng, Vit, I, E\n",
       "0      A Di Đà Phật        NaN                Np\n",
       "1             a-dốt        NaN                Np\n",
       "2             a dua        NaN                Vt\n",
       "3      a-đrê-na-lin        NaN                Np\n",
       "4            a giao        NaN            Nc, Ng\n",
       "...             ...        ...               ...\n",
       "37457             :        NaN                 :\n",
       "37458             ;        NaN                 ;\n",
       "37459             !        NaN                 !\n",
       "37460      ?isName?        NaN                Np\n",
       "37461     ?isDigit?        NaN                Nn\n",
       "\n",
       "[37462 rows x 3 columns]"
      ]
     },
     "execution_count": 14,
     "metadata": {},
     "output_type": "execute_result"
    }
   ],
   "source": [
    "vdic_df[]"
   ]
  },
  {
   "cell_type": "code",
   "execution_count": 17,
   "metadata": {},
   "outputs": [
    {
     "data": {
      "text/plain": [
       "37462"
      ]
     },
     "execution_count": 17,
     "metadata": {},
     "output_type": "execute_result"
    }
   ],
   "source": [
    "vocab = [str(x).lower() for x in vdic_df[\"a\"]]\n",
    "len(vocab)"
   ]
  },
  {
   "cell_type": "code",
   "execution_count": null,
   "metadata": {},
   "outputs": [],
   "source": []
  }
 ],
 "metadata": {
  "kernelspec": {
   "display_name": "computer-science-ztVEJqzG-py3.12",
   "language": "python",
   "name": "python3"
  },
  "language_info": {
   "codemirror_mode": {
    "name": "ipython",
    "version": 3
   },
   "file_extension": ".py",
   "mimetype": "text/x-python",
   "name": "python",
   "nbconvert_exporter": "python",
   "pygments_lexer": "ipython3",
   "version": "3.12.3"
  }
 },
 "nbformat": 4,
 "nbformat_minor": 2
}
