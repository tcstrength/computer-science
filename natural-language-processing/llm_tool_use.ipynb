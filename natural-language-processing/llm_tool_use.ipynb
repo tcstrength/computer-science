{
 "cells": [
  {
   "cell_type": "markdown",
   "metadata": {},
   "source": [
    "### Cohere - Function calls"
   ]
  },
  {
   "cell_type": "code",
   "execution_count": 1,
   "metadata": {},
   "outputs": [
    {
     "name": "stdout",
     "output_type": "stream",
     "text": [
      "Note: you may need to restart the kernel to use updated packages.\n"
     ]
    }
   ],
   "source": [
    "%pip install \"cohere<5\" --quiet"
   ]
  },
  {
   "cell_type": "code",
   "execution_count": 1,
   "metadata": {},
   "outputs": [],
   "source": [
    "import os\n",
    "import cohere, json\n",
    "API_KEY = os.environ[\"COHERE_API_KEY\"]\n",
    "co = cohere.Client(API_KEY)"
   ]
  },
  {
   "cell_type": "markdown",
   "metadata": {},
   "source": [
    "### Sales Example"
   ]
  },
  {
   "cell_type": "code",
   "execution_count": 10,
   "metadata": {},
   "outputs": [],
   "source": [
    "sales_database = {\n",
    "    '2023-09-28': {\n",
    "        'total_sales_amount': 5000,\n",
    "        'total_units_sold': 100,\n",
    "    },\n",
    "    '2023-09-29': {\n",
    "        'total_sales_amount': 10000,\n",
    "        'total_units_sold': 250,\n",
    "    },\n",
    "    '2023-09-30': {\n",
    "        'total_sales_amount': 8000,\n",
    "        'total_units_sold': 200,\n",
    "    }\n",
    "}\n",
    "\n",
    "catalog_sales = {\n",
    "    'Electronics': {\n",
    "        'total_sales_amount': 5000,\n",
    "        'total_units_sold': 100,\n",
    "    },\n",
    "    'Clothing': {\n",
    "        'total_sales_amount': 10000,\n",
    "        'total_units_sold': 250,\n",
    "    }\n",
    "}\n",
    "\n",
    "product_catalog = {\n",
    "    'Electronics': [\n",
    "        {'product_id': 'E1001', 'name': 'Smartphone', 'price': 500, 'stock_level': 20},\n",
    "        {'product_id': 'E1002', 'name': 'Laptop', 'price': 1000, 'stock_level': 15},\n",
    "        {'product_id': 'E1003', 'name': 'Tablet', 'price': 300, 'stock_level': 25},\n",
    "    ],\n",
    "    'Clothing': [\n",
    "        {'product_id': 'C1001', 'name': 'T-Shirt', 'price': 20, 'stock_level': 100},\n",
    "        {'product_id': 'C1002', 'name': 'Jeans', 'price': 50, 'stock_level': 80},\n",
    "        {'product_id': 'C1003', 'name': 'Jacket', 'price': 100, 'stock_level': 40},\n",
    "    ]\n",
    "}"
   ]
  },
  {
   "cell_type": "code",
   "execution_count": 20,
   "metadata": {},
   "outputs": [],
   "source": [
    "def query_daily_sales_report(day: str) -> dict:\n",
    "    \"\"\"\n",
    "    Function to retrieve the sales report for the given day\n",
    "    \"\"\"\n",
    "    report = sales_database.get(day, {})\n",
    "    if report:\n",
    "        return {\n",
    "            'date': day,\n",
    "            'summary': f\"Total Sales Amount: {report['total_sales_amount']}, Total Units Sold: {report['total_units_sold']}\"\n",
    "        }\n",
    "    else:\n",
    "        return {'date': day, 'summary': 'No sales data available for this day.'}\n",
    "\n",
    "def query_category_sales(category: str) -> dict:\n",
    "    report = catalog_sales.get(category, None)\n",
    "    if report is None:\n",
    "        return {'category': category, 'summary': \"Unknown category or no sales data available\"}\n",
    "    \n",
    "    return {\n",
    "            'category': category,\n",
    "            'summary': f\"Total Sales Amount: {report['total_sales_amount']}, Total Units Sold: {report['total_units_sold']}\"\n",
    "        }\n",
    "\n",
    "def query_product_catalog(category: str) -> dict:\n",
    "    \"\"\"\n",
    "    Function to retrieve products for the given category\n",
    "    \"\"\"\n",
    "    products = product_catalog.get(category, [])\n",
    "    return {\n",
    "        'category': category,\n",
    "        'products': products\n",
    "    }\n",
    "\n",
    "\n",
    "functions_map = {\n",
    "    \"query_daily_sales_report\": query_daily_sales_report,\n",
    "    \"query_product_catalog\": query_product_catalog,\n",
    "    \"query_category_sales\": query_category_sales,\n",
    "}"
   ]
  },
  {
   "cell_type": "code",
   "execution_count": 12,
   "metadata": {},
   "outputs": [],
   "source": [
    "tools = [\n",
    "    {\n",
    "        \"name\": \"query_daily_sales_report\",\n",
    "        \"description\": \"Connects to a database to retrieve overall sales volumes and sales information for a given day.\",\n",
    "        \"parameter_definitions\": {\n",
    "            \"day\": {\n",
    "                \"description\": \"Retrieves sales data for this day, formatted as YYYY-MM-DD.\",\n",
    "                \"type\": \"str\",\n",
    "                \"required\": True\n",
    "            }\n",
    "        }\n",
    "    },\n",
    "    {\n",
    "        \"name\": \"query_product_catalog\",\n",
    "        \"description\": \"Connects to a product catalog with information about all the products being sold, including categories, prices, and stock levels.\",\n",
    "        \"parameter_definitions\": {\n",
    "            \"category\": {\n",
    "                \"description\": \"Retrieves product information data for all products in this category.\",\n",
    "                \"type\": \"str\",\n",
    "                \"required\": True\n",
    "            }\n",
    "        }\n",
    "    },\n",
    "    {\n",
    "        \"name\": \"query_category_sales\",\n",
    "        \"description\": \"Connects to a category sales catalog to retrieve total sales of a given category.\",\n",
    "        \"parameter_definitions\": {\n",
    "            \"category\": {\n",
    "                \"description\": \"Retrieves sales of the category information data for all products in this category.\",\n",
    "                \"type\": \"str\",\n",
    "                \"required\": True\n",
    "            }\n",
    "        }\n",
    "    }\n",
    "]"
   ]
  },
  {
   "cell_type": "code",
   "execution_count": 13,
   "metadata": {},
   "outputs": [],
   "source": [
    "preamble = \"\"\"\n",
    "## Task & Context\n",
    "You help people answer their questions and other requests interactively. You will be asked a very wide array of requests on all kinds of topics. You will be equipped with a wide range of search engines or similar tools to help you, which you use to research your answer. You should focus on serving the user's needs as best you can, which will be wide-ranging.\n",
    "\n",
    "## Style Guide\n",
    "Unless the user asks for a different style of answer, you should answer in full sentences, using proper grammar and spelling.\n",
    "\"\"\""
   ]
  },
  {
   "cell_type": "code",
   "execution_count": 14,
   "metadata": {},
   "outputs": [],
   "source": [
    "message = \"Can you provide me products in Electronics category and the sales\""
   ]
  },
  {
   "cell_type": "code",
   "execution_count": 15,
   "metadata": {},
   "outputs": [],
   "source": [
    "response = co.chat(\n",
    "    message=message,\n",
    "    tools=tools,\n",
    "    preamble=preamble,\n",
    "    model=\"command-r\"\n",
    ")"
   ]
  },
  {
   "cell_type": "code",
   "execution_count": 23,
   "metadata": {},
   "outputs": [
    {
     "name": "stdout",
     "output_type": "stream",
     "text": [
      "Running tool query_product_catalog, with parameters: {'category': 'Electronics'}\n",
      ">> Tool results: [{'category': 'Electronics', 'products': [{'product_id': 'E1001', 'name': 'Smartphone', 'price': 500, 'stock_level': 20}, {'product_id': 'E1002', 'name': 'Laptop', 'price': 1000, 'stock_level': 15}, {'product_id': 'E1003', 'name': 'Tablet', 'price': 300, 'stock_level': 25}]}]\n",
      "Running tool query_category_sales, with parameters: {'category': 'Electronics'}\n",
      ">> Tool results: [{'category': 'Electronics', 'summary': 'Total Sales Amount: 5000, Total Units Sold: 100'}]\n"
     ]
    }
   ],
   "source": [
    "tool_results = []\n",
    "# Iterate over the tool calls generated by the model\n",
    "for tool_call in response.tool_calls:\n",
    "    # here is where you would call the tool recommended by the model, using the parameters recommended by the model\n",
    "    print(f\"Running tool {tool_call.name}, with parameters: {tool_call.parameters}\")\n",
    "    output = functions_map[tool_call.name](**tool_call.parameters)\n",
    "    # store the output in a list\n",
    "    outputs = [output]\n",
    "    print(f\">> Tool results: {outputs}\")\n",
    "    # store your tool results in this format\n",
    "    tool_results.append({\n",
    "        \"call\": tool_call,\n",
    "        \"outputs\": outputs\n",
    "    })"
   ]
  },
  {
   "cell_type": "code",
   "execution_count": 24,
   "metadata": {},
   "outputs": [],
   "source": [
    "response = co.chat(\n",
    "    message=message,\n",
    "    tools=tools,\n",
    "    tool_results=tool_results,\n",
    "    preamble=preamble,\n",
    "    model=\"command-r\",\n",
    "    temperature=0.3\n",
    ")"
   ]
  },
  {
   "cell_type": "code",
   "execution_count": 25,
   "metadata": {},
   "outputs": [
    {
     "data": {
      "text/plain": [
       "'There are many products in the electronics category, such as smartphones (priced at $500), laptops ($1000) and tablets ($300). Currently, the total sales amount in the electronics category is $5000, with 100 units sold in total.'"
      ]
     },
     "execution_count": 25,
     "metadata": {},
     "output_type": "execute_result"
    }
   ],
   "source": [
    "response.text"
   ]
  },
  {
   "cell_type": "markdown",
   "metadata": {},
   "source": [
    "### SQL Generation"
   ]
  },
  {
   "cell_type": "code",
   "execution_count": 41,
   "metadata": {},
   "outputs": [
    {
     "name": "stdout",
     "output_type": "stream",
     "text": [
      "Note: you may need to restart the kernel to use updated packages.\n"
     ]
    }
   ],
   "source": [
    "%pip install --quiet langchain langchain_cohere langchain_experimental"
   ]
  },
  {
   "cell_type": "code",
   "execution_count": 12,
   "metadata": {},
   "outputs": [],
   "source": [
    "from langchain_core.tools import tool\n",
    "from langchain_core.pydantic_v1 import BaseModel, Field\n",
    "from langchain.agents import AgentExecutor\n",
    "from langchain_cohere.react_multi_hop.agent import create_cohere_react_agent\n",
    "from langchain_core.prompts import ChatPromptTemplate\n",
    "from langchain_cohere.chat_models import ChatCohere"
   ]
  },
  {
   "cell_type": "code",
   "execution_count": 17,
   "metadata": {},
   "outputs": [],
   "source": [
    "table_def = {\n",
    "    \"user\": {\n",
    "        \"user_id\": \"int primary key\",\n",
    "        \"user_name\": \"str\",\n",
    "        \"first_name\": \"str\",\n",
    "        \"last_name\": \"str\"\n",
    "    },\n",
    "    \"product\": {\n",
    "        \"product_id\": \"int primary key\",\n",
    "        \"category_id\": \"int reference category(category_id)\",\n",
    "        \"product_name\": \"str\",\n",
    "        \"price\": \"float\",\n",
    "        \"stock\": \"int\"\n",
    "    },\n",
    "    \"category\": {\n",
    "        \"category_id\": \"int primary key\",\n",
    "        \"category_name\": \"str\"\n",
    "    },\n",
    "    \"order\": {\n",
    "        \"order_id\": \"int primary key\",\n",
    "        \"user_id\": \"int reference user(user_id)\",\n",
    "        \"created_at\": \"datetime\",\n",
    "    },\n",
    "    \"order_detail\": {\n",
    "        \"order_detail_id\": \"int primary key\",\n",
    "        \"order_id\": \"int reference order(order_id)\",\n",
    "        \"product_id\": \"int reference product(product_id)\",\n",
    "        \"price\": \"float\"\n",
    "    }\n",
    "}\n",
    "\n",
    "@tool\n",
    "def retrieve_table_definition_tool(table_name: str) -> str:\n",
    "    \"\"\"Retrieve definition of a given table\n",
    "    Args:\n",
    "        table_name(str): Input table name\n",
    "    \"\"\"\n",
    "\n",
    "    definition = table_def.get(table_name, None)\n",
    "    if definition is None:\n",
    "        return f\"Table {table_name} is not found\"\n",
    "    \n",
    "    return definition\n",
    "\n",
    "class retrieve_table_definition_inputs(BaseModel):\n",
    "    table_name: str = Field(description=\"Name of table\")\n",
    "\n",
    "retrieve_table_definition_tool.args_schema = retrieve_table_definition_inputs\n",
    "     "
   ]
  },
  {
   "cell_type": "code",
   "execution_count": 47,
   "metadata": {},
   "outputs": [],
   "source": [
    "preamble = \"\"\"\n",
    "You are an expert who answers the user's question with the most relevant information. You are equipped with a table definition retriever tool, you are smart at splitting the question into multiple table names, please keep the table names in singular form.\n",
    "\"\"\"\n",
    "message = \"Generate SQL query to count number of order of users over time, there are two table 'order' and 'user'\""
   ]
  },
  {
   "cell_type": "code",
   "execution_count": 13,
   "metadata": {},
   "outputs": [],
   "source": [
    "llm = ChatCohere(model=\"command-r-plus\", temperature=0.3)"
   ]
  },
  {
   "cell_type": "code",
   "execution_count": 36,
   "metadata": {},
   "outputs": [],
   "source": [
    "prompt = ChatPromptTemplate.from_template(\"{input}\")\n",
    "\n",
    "agent = create_cohere_react_agent(\n",
    "    llm=llm,\n",
    "    tools=[retrieve_table_definition_tool],\n",
    "    prompt=prompt,\n",
    ")\n",
    "\n",
    "agent_executor = AgentExecutor(agent=agent, tools=[retrieve_table_definition_tool], verbose=True)"
   ]
  },
  {
   "cell_type": "code",
   "execution_count": 48,
   "metadata": {},
   "outputs": [
    {
     "name": "stdout",
     "output_type": "stream",
     "text": [
      "\n",
      "\n",
      "\u001b[1m> Entering new AgentExecutor chain...\u001b[0m\n",
      "\u001b[32;1m\u001b[1;3m\n",
      "I will use the retrieve_table_definition_tool to find out the table definitions for the 'order' and 'user' tables. Then, I will write an SQL query to count the number of orders per user over time.\n",
      "{'tool_name': 'retrieve_table_definition_tool', 'parameters': {'table_name': 'order'}}\n",
      "\u001b[0m\u001b[36;1m\u001b[1;3m{'order_id': 'int primary key', 'user_id': 'int reference user(user_id)', 'created_at': 'datetime'}\u001b[0m\u001b[32;1m\u001b[1;3m\n",
      "{'tool_name': 'retrieve_table_definition_tool', 'parameters': {'table_name': 'user'}}\n",
      "\u001b[0m\u001b[36;1m\u001b[1;3m{'user_id': 'int primary key', 'user_name': 'str', 'first_name': 'str', 'last_name': 'str'}\u001b[0m\u001b[32;1m\u001b[1;3mReflection: I have found the following table definitions:\n",
      "\n",
      "Order table:\n",
      "- Order_Id: int primary key\n",
      "- User_Id: int reference user(user_id)\n",
      "- Created_At: datetime\n",
      "\n",
      "User table:\n",
      "- User_Id: int primary key\n",
      "- User_Name: str\n",
      "- First_Name: str\n",
      "- Last_Name: str\n",
      "\n",
      "Now, I will write an SQL query to count the number of orders per user over time.\n",
      "Relevant Documents: 0,1\n",
      "Cited Documents: 0,1\n",
      "Answer: Here is an SQL query that counts the number of orders per user over time:\n",
      "```sql\n",
      "SELECT User_Id, COUNT(Order_Id) AS Order_Count, Created_At\n",
      "FROM order\n",
      "GROUP BY User_Id, Created_At\n",
      "ORDER BY User_Id, Created_At;\n",
      "```\n",
      "\n",
      "This query groups the orders by user and created date, and then counts the number of orders for each user on each date. The results are ordered by user and date.\n",
      "Grounded answer: Here is an SQL query that counts the number of orders per user over time:\n",
      "```sql\n",
      "SELECT <co: 0>User_Id</co: 0>, COUNT<co: 0>(Order_Id</co: 0>) AS Order_Count, <co: 0>Created_At</co: 0>\n",
      "FROM <co: 0>order</co: 0>\n",
      "GROUP BY <co: 0>User_Id</co: 0>, <co: 0>Created_At</co: 0>\n",
      "ORDER BY <co: 0>User_Id</co: 0>, <co: 0>Created_At</co: 0>;\n",
      "```\n",
      "\n",
      "This query groups the orders by <co: 0>user and created date</co: 0>, and then counts the number of orders for each user on each date. The results are ordered by <co: 0>user and date</co: 0>.\u001b[0m\n",
      "\n",
      "\u001b[1m> Finished chain.\u001b[0m\n"
     ]
    },
    {
     "data": {
      "text/plain": [
       "'Here is an SQL query that counts the number of orders per user over time:\\n```sql\\nSELECT User_Id, COUNT(Order_Id) AS Order_Count, Created_At\\nFROM order\\nGROUP BY User_Id, Created_At\\nORDER BY User_Id, Created_At;\\n```\\n\\nThis query groups the orders by user and created date, and then counts the number of orders for each user on each date. The results are ordered by user and date.'"
      ]
     },
     "execution_count": 48,
     "metadata": {},
     "output_type": "execute_result"
    }
   ],
   "source": [
    "response = agent_executor.invoke({\n",
    "    \"input\": message,\n",
    "    \"preamble\": preamble,\n",
    "})\n",
    "\n",
    "response['output']"
   ]
  }
 ],
 "metadata": {
  "kernelspec": {
   "display_name": "base",
   "language": "python",
   "name": "python3"
  },
  "language_info": {
   "codemirror_mode": {
    "name": "ipython",
    "version": 3
   },
   "file_extension": ".py",
   "mimetype": "text/x-python",
   "name": "python",
   "nbconvert_exporter": "python",
   "pygments_lexer": "ipython3",
   "version": "3.11.6"
  }
 },
 "nbformat": 4,
 "nbformat_minor": 2
}
