{
 "cells": [
  {
   "cell_type": "code",
   "execution_count": 2,
   "id": "6a11a1ed-92bd-41bf-80bb-a85cb98f7f7a",
   "metadata": {
    "collapsed": true,
    "jupyter": {
     "outputs_hidden": true
    },
    "scrolled": true
   },
   "outputs": [
    {
     "name": "stdout",
     "output_type": "stream",
     "text": [
      "Looking in indexes: https://download.pytorch.org/whl/cpu\n",
      "Requirement already satisfied: torch==2.2.0 in /opt/conda/lib/python3.11/site-packages (2.2.0+cpu)\n",
      "Requirement already satisfied: torchvision==0.17.0 in /opt/conda/lib/python3.11/site-packages (0.17.0+cpu)\n",
      "Requirement already satisfied: torchaudio==2.2.0 in /opt/conda/lib/python3.11/site-packages (2.2.0+cpu)\n",
      "Requirement already satisfied: filelock in /opt/conda/lib/python3.11/site-packages (from torch==2.2.0) (3.9.0)\n",
      "Requirement already satisfied: typing-extensions>=4.8.0 in /opt/conda/lib/python3.11/site-packages (from torch==2.2.0) (4.8.0)\n",
      "Requirement already satisfied: sympy in /opt/conda/lib/python3.11/site-packages (from torch==2.2.0) (1.12)\n",
      "Requirement already satisfied: networkx in /opt/conda/lib/python3.11/site-packages (from torch==2.2.0) (3.2)\n",
      "Requirement already satisfied: jinja2 in /opt/conda/lib/python3.11/site-packages (from torch==2.2.0) (3.1.2)\n",
      "Requirement already satisfied: fsspec in /opt/conda/lib/python3.11/site-packages (from torch==2.2.0) (2023.9.2)\n",
      "Requirement already satisfied: numpy in /opt/conda/lib/python3.11/site-packages (from torchvision==0.17.0) (1.24.4)\n",
      "Requirement already satisfied: requests in /opt/conda/lib/python3.11/site-packages (from torchvision==0.17.0) (2.31.0)\n",
      "Requirement already satisfied: pillow!=8.3.*,>=5.3.0 in /opt/conda/lib/python3.11/site-packages (from torchvision==0.17.0) (10.1.0)\n",
      "Requirement already satisfied: MarkupSafe>=2.0 in /opt/conda/lib/python3.11/site-packages (from jinja2->torch==2.2.0) (2.1.3)\n",
      "Requirement already satisfied: charset-normalizer<4,>=2 in /opt/conda/lib/python3.11/site-packages (from requests->torchvision==0.17.0) (3.3.0)\n",
      "Requirement already satisfied: idna<4,>=2.5 in /opt/conda/lib/python3.11/site-packages (from requests->torchvision==0.17.0) (3.4)\n",
      "Requirement already satisfied: urllib3<3,>=1.21.1 in /opt/conda/lib/python3.11/site-packages (from requests->torchvision==0.17.0) (2.0.7)\n",
      "Requirement already satisfied: certifi>=2017.4.17 in /opt/conda/lib/python3.11/site-packages (from requests->torchvision==0.17.0) (2023.7.22)\n",
      "Requirement already satisfied: mpmath>=0.19 in /opt/conda/lib/python3.11/site-packages (from sympy->torch==2.2.0) (1.3.0)\n",
      "\u001b[33mDEPRECATION: omegaconf 2.0.6 has a non-standard dependency specifier PyYAML>=5.1.*. pip 24.0 will enforce this behaviour change. A possible replacement is to upgrade to a newer version of omegaconf or contact the author to suggest that they release a version with a conforming dependency specifiers. Discussion can be found at https://github.com/pypa/pip/issues/12063\u001b[0m\u001b[33m\n",
      "\u001b[0m"
     ]
    }
   ],
   "source": [
    "!pip install torch==2.2.0 torchvision==0.17.0 torchaudio==2.2.0 --index-url https://download.pytorch.org/whl/cpu"
   ]
  },
  {
   "cell_type": "code",
   "execution_count": 248,
   "id": "90bd1290-8d23-4b28-9e8f-f6cc0b5b203a",
   "metadata": {},
   "outputs": [],
   "source": [
    "# https://github.com/hyunwoongko/transformer"
   ]
  },
  {
   "cell_type": "code",
   "execution_count": 3,
   "id": "35b77e57-f03a-4cf8-9a41-12fdfadf44c5",
   "metadata": {},
   "outputs": [],
   "source": [
    "import math\n",
    "import torch\n",
    "import pytorch_lightning as PL\n",
    "from torch import nn\n",
    "from torch import optim\n",
    "from torch import Tensor\n",
    "from torch.nn import functional as F"
   ]
  },
  {
   "cell_type": "markdown",
   "id": "6f3faed9-8e2d-466f-a9f6-eeed35df7705",
   "metadata": {},
   "source": [
    "### Prepare dataset"
   ]
  },
  {
   "cell_type": "code",
   "execution_count": 223,
   "id": "eb44dfbc-2162-4193-b202-d890a1d94124",
   "metadata": {},
   "outputs": [
    {
     "data": {
      "text/plain": [
       "{'<unk>': 0,\n",
       " '<bos>': 1,\n",
       " '<eos>': 2,\n",
       " 'hello': 3,\n",
       " 'hi': 4,\n",
       " ',': 5,\n",
       " 'how': 6,\n",
       " 'are': 7,\n",
       " 'you': 8,\n",
       " '?': 9,\n",
       " 'i': 10,\n",
       " 'am': 11,\n",
       " 'fine': 12,\n",
       " 'is': 13,\n",
       " 'it': 14,\n",
       " 'doing': 15,\n",
       " 'good': 16}"
      ]
     },
     "execution_count": 223,
     "metadata": {},
     "output_type": "execute_result"
    }
   ],
   "source": [
    "pairs = [\n",
    "    (\"<bos> hello <eos>\",\"<bos> hi , how are you ? <eos>\"),\n",
    "    (\"<bos> how are you ? <eos>\", \"<bos> i am fine <eos>\"),\n",
    "    (\"<bos> how is it doing ? <eos>\", \"<bos> i am good <eos>\"),\n",
    "]\n",
    "\n",
    "def add_word(vocab: dict, word: str):\n",
    "    if word not in vocab:\n",
    "        vocab[word] = len(vocab)\n",
    "\n",
    "def add_sent(vocab: dict, sent: str):\n",
    "    for word in sent.split(\" \"):\n",
    "        add_word(vocab, word)\n",
    "vocab = {\n",
    "    \"<unk>\": 0,\n",
    "    \"<bos>\": 1,\n",
    "    \"<eos>\": 2\n",
    "}\n",
    "\n",
    "for p in pairs:\n",
    "    add_sent(vocab, p[0])\n",
    "    add_sent(vocab, p[1])\n",
    "vocab"
   ]
  },
  {
   "cell_type": "code",
   "execution_count": 224,
   "id": "cead1946-3103-40e3-987a-f6dca7da4ce9",
   "metadata": {},
   "outputs": [
    {
     "data": {
      "text/plain": [
       "{0: '<unk>',\n",
       " 1: '<bos>',\n",
       " 2: '<eos>',\n",
       " 3: 'hello',\n",
       " 4: 'hi',\n",
       " 5: ',',\n",
       " 6: 'how',\n",
       " 7: 'are',\n",
       " 8: 'you',\n",
       " 9: '?',\n",
       " 10: 'i',\n",
       " 11: 'am',\n",
       " 12: 'fine',\n",
       " 13: 'is',\n",
       " 14: 'it',\n",
       " 15: 'doing',\n",
       " 16: 'good'}"
      ]
     },
     "execution_count": 224,
     "metadata": {},
     "output_type": "execute_result"
    }
   ],
   "source": [
    "idx2word = {value: key for key, value in vocab.items()}\n",
    "idx2word"
   ]
  },
  {
   "cell_type": "code",
   "execution_count": 225,
   "id": "68de83f3-fd04-4fb9-966b-0ff4a146b8f3",
   "metadata": {},
   "outputs": [],
   "source": [
    "def to_tensor(vocab: dict, sent: str):\n",
    "    words = sent.split(\" \")\n",
    "    ts = torch.ones(len(words), dtype=torch.long)\n",
    "    for i, word in enumerate(words):\n",
    "        ts[i] = vocab[word]\n",
    "    return ts"
   ]
  },
  {
   "cell_type": "code",
   "execution_count": 226,
   "id": "c1f1b887-9d76-4604-bb42-e995a7fcaedb",
   "metadata": {},
   "outputs": [],
   "source": [
    "src, tgt = pairs[2]\n",
    "src = to_tensor(vocab, src)\n",
    "tgt = to_tensor(vocab, tgt)"
   ]
  },
  {
   "cell_type": "markdown",
   "id": "4069397b-d204-4b79-9990-9bc626fc7ea6",
   "metadata": {},
   "source": [
    "### Square mask"
   ]
  },
  {
   "cell_type": "code",
   "execution_count": 227,
   "id": "eff1dc78-6d2d-42b1-b3c2-216cf4020f7a",
   "metadata": {},
   "outputs": [],
   "source": [
    "def generate_square_subsequent_mask(sz):\n",
    "    mask = (torch.triu(torch.ones((sz, sz))) == 1).transpose(0, 1)\n",
    "    mask = mask.float().masked_fill(mask == 0, float('-inf')).masked_fill(mask == 1, float(0.0))\n",
    "    return mask\n",
    "\n",
    "def create_mask(src, tgt):\n",
    "    src_seq_len = src.shape[0]\n",
    "    tgt_seq_len = tgt.shape[0]\n",
    "    \n",
    "    src_mask = torch.zeros((src_seq_len, src_seq_len), dtype=torch.bool)\n",
    "    tgt_mask = generate_square_subsequent_mask(tgt_seq_len)\n",
    "\n",
    "    src_padding_mask = torch.ones(src_seq_len, dtype=torch.bool)\n",
    "    tgt_padding_mask = torch.ones(tgt_seq_len, dtype=torch.bool)\n",
    "    return src_mask, tgt_mask, src_padding_mask, tgt_padding_mask"
   ]
  },
  {
   "cell_type": "code",
   "execution_count": 228,
   "id": "9d21290d-abc6-45b0-abb5-3b06beb3e115",
   "metadata": {},
   "outputs": [
    {
     "data": {
      "text/plain": [
       "(torch.Size([7]), torch.Size([5]))"
      ]
     },
     "execution_count": 228,
     "metadata": {},
     "output_type": "execute_result"
    }
   ],
   "source": [
    "src.shape, tgt.shape"
   ]
  },
  {
   "cell_type": "code",
   "execution_count": 229,
   "id": "e2a31dd9-673e-44b9-b3db-c2f1bc20cf7f",
   "metadata": {},
   "outputs": [
    {
     "data": {
      "text/plain": [
       "(torch.Size([7, 7]), torch.Size([5, 5]), torch.Size([7]), torch.Size([5]))"
      ]
     },
     "execution_count": 229,
     "metadata": {},
     "output_type": "execute_result"
    }
   ],
   "source": [
    "src_mask, tgt_mask, src_padding_mask, tgt_padding_mask = create_mask(src, tgt)\n",
    "src_mask.shape, tgt_mask.shape, src_padding_mask.shape, tgt_padding_mask.shape"
   ]
  },
  {
   "cell_type": "markdown",
   "id": "96b83031-8cf1-4a9a-8d2a-db8c37ad363e",
   "metadata": {},
   "source": [
    "### Seq2Seq Transformer"
   ]
  },
  {
   "cell_type": "code",
   "execution_count": 238,
   "id": "8c0023f8-e30b-4b1e-82a0-ad7e121d3fd4",
   "metadata": {},
   "outputs": [],
   "source": [
    "class PositionalEncoding(nn.Module):\n",
    "    def __init__(self,\n",
    "                 emb_size: int,\n",
    "                 dropout: float,\n",
    "                 maxlen: int = 5000):\n",
    "        super(PositionalEncoding, self).__init__()\n",
    "        den = torch.exp(- torch.arange(0, emb_size, 2)* math.log(10000) / emb_size)\n",
    "        pos = torch.arange(0, maxlen).reshape(maxlen, 1)\n",
    "        pos_embedding = torch.zeros((maxlen, emb_size))\n",
    "        pos_embedding[:, 0::2] = torch.sin(pos * den)\n",
    "        pos_embedding[:, 1::2] = torch.cos(pos * den)\n",
    "        # This is for batch only, we test on unbatch\n",
    "        # pos_embedding = pos_embedding.unsqueeze(-2)\n",
    "\n",
    "        self.dropout = nn.Dropout(dropout)\n",
    "        self.register_buffer('pos_embedding', pos_embedding)\n",
    "\n",
    "    def forward(self, token_embedding: Tensor):\n",
    "        return self.dropout(token_embedding + self.pos_embedding[:token_embedding.size(0), :])\n",
    "\n",
    "\n",
    "class TokenEmbedding(nn.Module):\n",
    "    def __init__(self, vocab_size: int, emb_size):\n",
    "        super(TokenEmbedding, self).__init__()\n",
    "        self.embedding = nn.Embedding(vocab_size, emb_size)\n",
    "        self.emb_size = emb_size\n",
    "\n",
    "    def forward(self, tokens: Tensor):\n",
    "        return self.embedding(tokens.long()) * math.sqrt(self.emb_size)\n",
    "\n",
    "\n",
    "class Seq2SeqTransformer(nn.Module):\n",
    "    def __init__(self,\n",
    "                 emb_size: int,\n",
    "                 vocab_size: int,\n",
    "                 dropout: float = 0.1):\n",
    "        super(Seq2SeqTransformer, self).__init__()\n",
    "        \n",
    "        self.transformer = nn.Transformer(\n",
    "            d_model=emb_size, nhead=4,\n",
    "            num_encoder_layers=4, \n",
    "            num_decoder_layers=4,\n",
    "            dim_feedforward=256,\n",
    "            dropout=dropout\n",
    "        )\n",
    "        \n",
    "        self.token_emb = TokenEmbedding(vocab_size, emb_size)\n",
    "        self.pos_encoding = PositionalEncoding(emb_size, dropout=dropout)\n",
    "        self.generator = nn.Linear(emb_size, vocab_size)\n",
    "\n",
    "    def forward(self, src: Tensor, tgt: Tensor, src_mask: Tensor, tgt_mask: Tensor):\n",
    "        src_emb = self.pos_encoding(self.token_emb(src))\n",
    "        tgt_emb = self.pos_encoding(self.token_emb(tgt))\n",
    "        # outs = self.transformer(src_emb, tgt_emb, src_mask, tgt_mask)\n",
    "        outs = self.transformer(src_emb, tgt_emb)\n",
    "        return self.generator(outs)\n",
    "\n",
    "    def encode(self, src: Tensor, src_mask: Tensor):\n",
    "        # return self.transformer.encoder(self.pos_encoding(self.token_emb(src)), src_mask)\n",
    "        return self.transformer.encoder(self.pos_encoding(self.token_emb(src)))\n",
    "\n",
    "    def decode(self, tgt: Tensor, memory: Tensor, tgt_mask: Tensor):\n",
    "        # return self.transformer.decoder(self.pos_encoding(self.token_emb(tgt)), memory, tgt_mask)\n",
    "        return self.transformer.decoder(self.pos_encoding(self.token_emb(tgt)), memory)"
   ]
  },
  {
   "cell_type": "code",
   "execution_count": 239,
   "id": "22ef6d24-5245-4cb8-ba1d-774835c157c1",
   "metadata": {
    "scrolled": true
   },
   "outputs": [],
   "source": [
    "vocab_size = len(vocab)\n",
    "emb_size = 128\n",
    "my_model = Seq2SeqTransformer(emb_size, len(vocab))\n",
    "optimizer = optim.Adam(my_model.parameters(), lr=0.001, eps=1e-09, betas=[0.9, 0.98])\n",
    "criterion = nn.CrossEntropyLoss()"
   ]
  },
  {
   "cell_type": "markdown",
   "id": "53a301ca-48d3-4105-a494-93b77499b3d7",
   "metadata": {},
   "source": [
    "### Train the model"
   ]
  },
  {
   "cell_type": "code",
   "execution_count": 240,
   "id": "e7e91b9b-71b9-4789-9885-c3fff5d5b540",
   "metadata": {},
   "outputs": [
    {
     "name": "stdout",
     "output_type": "stream",
     "text": [
      "Epoch 10, cost=1.2706842422485352\n",
      "Epoch 20, cost=0.13766483962535858\n",
      "Epoch 30, cost=0.038455624133348465\n",
      "Epoch 40, cost=0.014489025808870792\n",
      "Epoch 50, cost=0.01110044214874506\n",
      "Epoch 60, cost=0.009455631487071514\n",
      "Epoch 70, cost=0.005460354965180159\n",
      "Epoch 80, cost=0.0043428209610283375\n",
      "Epoch 90, cost=0.002672881120815873\n",
      "Epoch 100, cost=0.0022111504804342985\n"
     ]
    }
   ],
   "source": [
    "def train_epoch(model: nn.Module, optimizer: optim.Optimizer, criterion):\n",
    "    cost = 0\n",
    "    for p in pairs:\n",
    "        src = to_tensor(vocab, p[0])\n",
    "        tgt = to_tensor(vocab, p[1])\n",
    "        tgt_inp = tgt[:-1]\n",
    "        tgt_out = tgt[1:]\n",
    "        src_mask, tgt_mask, _, _ = create_mask(src, tgt_inp)\n",
    "        logits = model(src, tgt_inp, src_mask, tgt_mask)\n",
    "        loss = criterion(logits, tgt_out)\n",
    "        cost += loss\n",
    "        optimizer.zero_grad()        \n",
    "        loss.backward()\n",
    "        optimizer.step()\n",
    "    return cost / len(pairs)\n",
    "    \n",
    "for epoch in range(1, 100 + 1):\n",
    "    cost = train_epoch(my_model, optimizer, criterion)\n",
    "    if epoch % 10 == 0:\n",
    "        print(f\"Epoch {epoch}, cost={cost}\")"
   ]
  },
  {
   "cell_type": "markdown",
   "id": "d4a2fe69-0014-4c6e-87ff-12869ea6a6d3",
   "metadata": {},
   "source": [
    "### Greedy decoding"
   ]
  },
  {
   "cell_type": "code",
   "execution_count": 247,
   "id": "8399fbb7-c744-49bd-8cf4-083974adcdfe",
   "metadata": {},
   "outputs": [
    {
     "name": "stdout",
     "output_type": "stream",
     "text": [
      "Input: <bos> how are you <eos>\n",
      "<bos> i am fine <eos>\n"
     ]
    }
   ],
   "source": [
    "def greedy_decode(model: nn.Module, src: str, bos_token: int, eos_token: int, max_len: int = 20):\n",
    "    src = to_tensor(vocab, src)\n",
    "    tgt = torch.ones(1).fill_(bos_token)\n",
    "    src_seq_len = src.shape[0]\n",
    "    src_mask = torch.zeros((src_seq_len, src_seq_len), dtype=torch.bool)\n",
    "    memory = model.encode(src, src_mask)\n",
    "\n",
    "    for i in range(max_len - 1):\n",
    "        tgt_seq_len = tgt.shape[0]\n",
    "        tgt_mask = generate_square_subsequent_mask(tgt_seq_len)\n",
    "        decode_out = model.decode(tgt, memory, tgt_mask)\n",
    "        logits = model.generator(decode_out)[-1, :]\n",
    "        logits = logits.view(1, -1)\n",
    "        _, next_word = torch.max(logits, dim=1)\n",
    "        tgt = torch.cat([tgt, next_word], dim=0)\n",
    "        if next_word.item() == eos_token:\n",
    "            break\n",
    "    sent = \" \".join(idx2word[x.item()] for x in tgt)\n",
    "    return sent\n",
    "\n",
    "src = \"<bos> how are you <eos>\"\n",
    "print(f\"Input: {src}\")\n",
    "print(greedy_decode(my_model, src, vocab[\"<bos>\"], vocab[\"<eos>\"]))"
   ]
  }
 ],
 "metadata": {
  "kernelspec": {
   "display_name": "Python 3 (ipykernel)",
   "language": "python",
   "name": "python3"
  },
  "language_info": {
   "codemirror_mode": {
    "name": "ipython",
    "version": 3
   },
   "file_extension": ".py",
   "mimetype": "text/x-python",
   "name": "python",
   "nbconvert_exporter": "python",
   "pygments_lexer": "ipython3",
   "version": "3.11.6"
  }
 },
 "nbformat": 4,
 "nbformat_minor": 5
}
