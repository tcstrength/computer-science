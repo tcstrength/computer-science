{
 "cells": [
  {
   "cell_type": "markdown",
   "id": "40a33740-f762-4e47-b42e-8d195056b01b",
   "metadata": {},
   "source": [
    "### Introduction\n",
    "#### Object Oriented Database\n",
    "#### Relational Database\n",
    "#### Object Relational Database\n",
    "- Is the combination of Object Oriented Database and Relational Database, the main purpose is to support directly classes, objects and inheritence in Relational Database. This means that we can make custom data types (new Class).\n",
    "- People consider the Object Relational Database as a middle ground between Relational Database and Object-Oriented Database.\n",
    "- The Object Relational Mapping or ORM is a way to link the Class to Table and objects to records between application and database.\n",
    "- In ORDB, it is easily to retrieve the related record by using the `dot` without joining to target table\n",
    "### Reference\n",
    "- https://en.wikipedia.org/wiki/Object–relational_database"
   ]
  },
  {
   "cell_type": "code",
   "execution_count": null,
   "id": "580994bc-7c68-4659-831b-3737f4790555",
   "metadata": {},
   "outputs": [],
   "source": []
  }
 ],
 "metadata": {
  "kernelspec": {
   "display_name": "Python 3 (ipykernel)",
   "language": "python",
   "name": "python3"
  },
  "language_info": {
   "codemirror_mode": {
    "name": "ipython",
    "version": 3
   },
   "file_extension": ".py",
   "mimetype": "text/x-python",
   "name": "python",
   "nbconvert_exporter": "python",
   "pygments_lexer": "ipython3",
   "version": "3.11.6"
  }
 },
 "nbformat": 4,
 "nbformat_minor": 5
}
