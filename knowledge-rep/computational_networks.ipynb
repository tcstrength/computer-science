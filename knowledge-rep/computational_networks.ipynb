{
 "cells": [
  {
   "cell_type": "code",
   "execution_count": 1,
   "metadata": {},
   "outputs": [],
   "source": [
    "import math"
   ]
  },
  {
   "cell_type": "markdown",
   "metadata": {},
   "source": [
    "### Define computational relations"
   ]
  },
  {
   "cell_type": "code",
   "execution_count": 60,
   "metadata": {},
   "outputs": [],
   "source": [
    "def fangle(U):\n",
    "    A = U.get(\"A\", None)\n",
    "    B = U.get(\"B\", None)\n",
    "    C = U.get(\"C\", None)\n",
    "\n",
    "    if A is None and B is not None and C is not None:\n",
    "        return {\"A\": math.pi - (B + C)}, [\"B\", \"C\"]\n",
    "    if B is None and A is not None and C is not None:\n",
    "        return {\"B\": math.pi - (A + C)}, [\"A\", \"C\"]\n",
    "    if C is None and A is not None and B is not None:\n",
    "        return {\"C\": math.pi - (A + B)}, [\"A\", \"B\"]\n",
    "    return {}, []\n",
    "    \n",
    "def fsin(U, edges, angles):\n",
    "    a = U.get(edges[0], None)\n",
    "    b = U.get(edges[1], None)\n",
    "    A = U.get(angles[0], None)\n",
    "    B = U.get(angles[1], None)\n",
    "\n",
    "    if a is None and b is not None and A is not None and B is not None:\n",
    "        return {edges[0]: (math.sin(A) * b) / math.sin(B)}, [edges[1], angles[0], angles[1]]\n",
    "    if b is None and a is not None and A is not None and B is not None:\n",
    "        return {edges[1]: (math.sin(B) * a) / math.sin(A)}, [edges[0], angles[0], angles[1]]\n",
    "    \n",
    "    if A is None and a is not None and b is not None and B is not None:\n",
    "        sinA = a * math.sin(B) / b\n",
    "        return {angles[0]: math.asin(sinA)}, [edges[0], edges[1], angles[1]]\n",
    "    \n",
    "    if B is None and a is not None and b is not None and A is not None:\n",
    "        sinB = b * math.sin(A) / a\n",
    "        return {angles[1]: math.asin(sinB)}, [edges[0], edges[1], angles[0]]\n",
    "    return {}, []\n",
    "\n",
    "def fp(U):\n",
    "    a = U.get(\"a\", None)\n",
    "    b = U.get(\"b\", None)\n",
    "    c = U.get(\"c\", None)\n",
    "    p = U.get(\"p\", None)\n",
    "    # find p\n",
    "    if p is None and a is not None and b is not None and c is not None:\n",
    "        return {\"p\": (a + b + c) / 2}, [\"a\", \"b\", \"c\"]\n",
    "    # find a\n",
    "    if a is None and b is not None and c is not None and p is not None:\n",
    "        return {\"a\": (2 * p) / (b + c) / 2}, [\"p\", \"b\", \"c\"]\n",
    "    # find b\n",
    "    if b is None and a is not None and c is not None and p is not None:\n",
    "        return {\"b\": (2 * p) / (a + c) / 2}, [\"p\", \"a\", \"c\"]\n",
    "    # find c\n",
    "    if c is None and a is not None and b is not None and p is not None:\n",
    "        return {\"c\": (2 * p) / (a + b) / 2}, [\"p\", \"a\", \"b\"]\n",
    "    return {}, []\n",
    "\n",
    "def fsquare_sin(U, edges, angle):\n",
    "    a = U.get(edges[0], None)\n",
    "    b = U.get(edges[1], None)\n",
    "    C = U.get(angle, None)\n",
    "    S = U.get(\"S\", None)\n",
    "\n",
    "    # find S\n",
    "    if a is not None and b is not None and C is not None:\n",
    "        return {\"S\": (a * b * math.sin(C)) / 2}, [edges[0], edges[1], angle]\n",
    "    # find a\n",
    "    if a is None and b is not None and C is not None and S is not None:\n",
    "        return {edges[0]: (2 * S) / (b * math.sin(C))}, [edges[1], angle, \"S\"]\n",
    "    # find b\n",
    "    if b is None and a is not None and C is not None and S is not None:\n",
    "        return {edges[1]: (2 * S) / (a * math.sin(C))}, [edges[0], angle, \"S\"]\n",
    "    # find C\n",
    "    if C is None and a is not None and b is not None and S is not None:\n",
    "        sinC = (2 * S) / (a * b)\n",
    "        return {angle: math.asin(sinC)}, [edges[0], edges[1], \"S\"]\n",
    "    return {}, []\n",
    "\n",
    "F = {\n",
    "    \"f1\": fangle, \n",
    "    \"f2\": lambda U: fsin(U, [\"a\", \"b\"], [\"A\", \"B\"]),\n",
    "    \"f3\": lambda U: fsin(U, [\"b\", \"c\"], [\"B\", \"C\"]),\n",
    "    \"f4\": lambda U: fsin(U, [\"a\", \"c\"], [\"A\", \"C\"]),\n",
    "    \"f5\": fp,\n",
    "    \"f6\": lambda U: fsquare_sin(U, [\"a\", \"b\"], \"C\"),\n",
    "    \"f7\": lambda U: fsquare_sin(U, [\"a\", \"c\"], \"B\"),\n",
    "    \"f8\": lambda U: fsquare_sin(U, [\"b\", \"c\"], \"A\"),\n",
    "}\n",
    "M = [\"A\", \"B\", \"C\", \"a\", \"b\", \"c\", \"p\", \"S\"]"
   ]
  },
  {
   "cell_type": "markdown",
   "metadata": {},
   "source": [
    "### Define hypothesis and goal"
   ]
  },
  {
   "cell_type": "code",
   "execution_count": 61,
   "metadata": {},
   "outputs": [],
   "source": [
    "H = {\n",
    "    \"A\": 0.4,\n",
    "    \"B\": 0.3,\n",
    "    \"c\": 2.1\n",
    "}\n",
    "G = [\"S\", \"p\"]"
   ]
  },
  {
   "cell_type": "markdown",
   "metadata": {},
   "source": [
    "### Algorithm"
   ]
  },
  {
   "cell_type": "code",
   "execution_count": 69,
   "metadata": {},
   "outputs": [
    {
     "name": "stdout",
     "output_type": "stream",
     "text": [
      "Hypothesis: {'A': 0.4, 'B': 0.3, 'c': 2.1}\n",
      "Goal: ['S', 'p']\n",
      "Steps: ['f1(A,B) -> C', 'f3(c,B,C) -> b', 'f4(c,A,C) -> a', 'f5(a,b,c) -> p', 'f6(a,b,C) -> S']\n",
      "Result: {'S': 0.3938941537385168, 'p': 2.1663702746229285}\n"
     ]
    }
   ],
   "source": [
    "def find_solution(H, G):\n",
    "    H = H.copy()\n",
    "    solution = []\n",
    "    found = False\n",
    "\n",
    "    if set(G) <= set(H.keys()):\n",
    "        return solution, {x: H[x] for x in G}\n",
    "\n",
    "    while not found:\n",
    "        Hold = H.copy()\n",
    "        for f, r in F.items():\n",
    "            v, u = r(H)\n",
    "            if len(v) == 0:\n",
    "                continue\n",
    "\n",
    "            new_fact = list(v.keys())[0]\n",
    "            if new_fact not in H.keys():\n",
    "                H = H | v\n",
    "                solution.append(f\"{f}({','.join(u)}) -> {new_fact}\")\n",
    "\n",
    "        if set(G) <= set(H.keys()):\n",
    "            found = True\n",
    "        \n",
    "        if set(H.keys()) == set(Hold.keys()):\n",
    "            break\n",
    "        \n",
    "    return solution, {x: H[x] for x in G}\n",
    "print(f\"Hypothesis: {H}\")\n",
    "print(f\"Goal: {G}\")\n",
    "solution, result = find_solution(H, G)\n",
    "print(f\"Steps: {solution}\")\n",
    "print(f\"Result: {result}\")"
   ]
  }
 ],
 "metadata": {
  "kernelspec": {
   "display_name": "computer-science-ztVEJqzG-py3.12",
   "language": "python",
   "name": "python3"
  },
  "language_info": {
   "codemirror_mode": {
    "name": "ipython",
    "version": 3
   },
   "file_extension": ".py",
   "mimetype": "text/x-python",
   "name": "python",
   "nbconvert_exporter": "python",
   "pygments_lexer": "ipython3",
   "version": "3.12.3"
  }
 },
 "nbformat": 4,
 "nbformat_minor": 2
}
