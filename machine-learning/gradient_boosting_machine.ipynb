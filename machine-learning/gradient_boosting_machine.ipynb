{
 "cells": [
  {
   "cell_type": "markdown",
   "metadata": {},
   "source": [
    "### Introduction\n",
    "Gradient Boosting Machine or GBM for short, belongs to the boosting family, unlike Adaptive Boosting ![AdaBoost](./ada_boost.ipynb) which learns to correct the mistakes by putting more weight on difficult to classify instances and find the optimal contribution $\\alpha$ for the learner at that iteration, the GBM try to find the residuals at each iteration. \n",
    "\n",
    "### Algorithm\n",
    "In regression analysis, the general form of regression model is expressed as:\n",
    "$y = \\hat{y} + \\epsilon$, where $\\hat{y}$ is the predicted value of $y$ based on the regression model, and $\\epsilon$ is the error term which represent the difference between predicted value $\\hat{y}$ and true value $y$. The GBM learn the $\\epsilon$ after each time step and expect after each time step the $\\epsilon$ will be smaller and smaller, the sum of $\\epsilon$ over dataset is defined:\n",
    "$$L = \\sum_{i=1}^{n} \\epsilon_i^2 = \\sum_{i=1}^{n} (y_i - \\hat{y})^2_i$$\n",
    "\n",
    "The loss function $L$ reaches optimal when $\\hat{y}_t = \\hat{y} + \\epsilon$, and therefore, we define the base learner as $\\hat{y}$, and generalize the $\\epsilon$ into a function $h(x)$, we got:\n",
    "$$\\hat{y}_t = \\hat{y} + h(x) = f(x) + h(x)$$\n",
    "\n",
    "Where $f(x)$ is considered as base weak learner, and $h(x)$ is weak leaner that is trained to correct the errors (residuals), the algorithm can be generalized as follows:\n",
    "\n",
    "1. Init base learner: $f(x)$\n",
    "2. Compute residuals: $\\epsilon = y - (f(x) + \\sum_{i=1}^{n} h_i(x))$\n",
    "3. Train weak learner to learn the residuals: h_i(x)\n",
    "4. Add the weak learner to the set\n",
    "5. Back to step 2 until we reach the expected residuals sum of squared, or reach the maximum number of estimators\n"
   ]
  },
  {
   "cell_type": "markdown",
   "metadata": {},
   "source": [
    "### Implementation\n",
    "In this implementation, we use the `DecisionTreeClassifer` as base weak leaner and `DecisionTreeRegressor` to estimate the residuals, the dataset in use is `hastie_10_2` from `sklearn.datasets`"
   ]
  },
  {
   "cell_type": "code",
   "execution_count": 21,
   "metadata": {},
   "outputs": [],
   "source": [
    "import numpy as np\n",
    "import tqdm\n",
    "from sklearn.tree import DecisionTreeRegressor\n",
    "from sklearn.tree import DecisionTreeClassifier\n",
    "from sklearn.model_selection import train_test_split\n",
    "from sklearn.datasets import make_hastie_10_2"
   ]
  },
  {
   "cell_type": "code",
   "execution_count": 2,
   "metadata": {},
   "outputs": [],
   "source": [
    "X, y = make_hastie_10_2()\n",
    "y[y < 0] = 0\n",
    "X_train, X_test, y_train, y_test = train_test_split(X, y, test_size=0.3)"
   ]
  },
  {
   "cell_type": "code",
   "execution_count": 3,
   "metadata": {},
   "outputs": [],
   "source": [
    "def encode_one_hot(y):\n",
    "    categories, inverse = np.unique(y, return_inverse=True)\n",
    "    one_hot = np.zeros((y.shape[0], categories.size))\n",
    "    one_hot[np.arange(y.shape[0]), inverse] = 1\n",
    "    return one_hot"
   ]
  },
  {
   "cell_type": "code",
   "execution_count": 18,
   "metadata": {},
   "outputs": [],
   "source": [
    "def predict(base, trees, X, lr = 0.1):\n",
    "    p = base.predict_proba(X)\n",
    "    for fn in trees:\n",
    "        p += lr * fn.predict(X)\n",
    "    return p\n",
    "\n",
    "def boost(data, residuals, max_depth=5):\n",
    "    fn = DecisionTreeRegressor(max_depth=max_depth, splitter=\"random\")\n",
    "    fn = fn.fit(data, residuals)\n",
    "    return fn"
   ]
  },
  {
   "cell_type": "markdown",
   "metadata": {},
   "source": [
    "#### Build base learner to learn check the performance of the first tree"
   ]
  },
  {
   "cell_type": "code",
   "execution_count": 15,
   "metadata": {},
   "outputs": [],
   "source": [
    "max_depth = 5\n",
    "base = DecisionTreeClassifier(max_depth=max_depth)\n",
    "base = base.fit(X_train, y_train)"
   ]
  },
  {
   "cell_type": "code",
   "execution_count": 17,
   "metadata": {},
   "outputs": [
    {
     "data": {
      "text/plain": [
       "0.6505555555555556"
      ]
     },
     "execution_count": 17,
     "metadata": {},
     "output_type": "execute_result"
    }
   ],
   "source": [
    "pred = base.predict_proba(X_test)\n",
    "sum(np.argmax(pred, axis=1) == y_test) / len(y_test)"
   ]
  },
  {
   "cell_type": "code",
   "execution_count": 19,
   "metadata": {},
   "outputs": [
    {
     "name": "stderr",
     "output_type": "stream",
     "text": [
      "100%|██████████| 100/100 [00:02<00:00, 45.41it/s]\n"
     ]
    }
   ],
   "source": [
    "one_hot = encode_one_hot(y_train)\n",
    "trees = []\n",
    "for i in tqdm.tqdm(range(100)):\n",
    "    residuals = one_hot - predict(base, trees, X_train)\n",
    "    fn = boost(X_train, residuals, max_depth)\n",
    "    trees.append(fn)"
   ]
  },
  {
   "cell_type": "code",
   "execution_count": 20,
   "metadata": {},
   "outputs": [
    {
     "data": {
      "text/plain": [
       "0.9063888888888889"
      ]
     },
     "execution_count": 20,
     "metadata": {},
     "output_type": "execute_result"
    }
   ],
   "source": [
    "pred = predict(base, trees, X_test)\n",
    "sum(np.argmax(pred, axis=1) == y_test) / len(y_test)"
   ]
  },
  {
   "cell_type": "markdown",
   "metadata": {},
   "source": [
    "#### Performance before and after boosted\n",
    "The performance of the base learner is 65% accuracy and after boosted is 90% which is around 38% uplifted in term of accuracy"
   ]
  },
  {
   "cell_type": "markdown",
   "metadata": {},
   "source": []
  }
 ],
 "metadata": {
  "kernelspec": {
   "display_name": "base",
   "language": "python",
   "name": "python3"
  },
  "language_info": {
   "codemirror_mode": {
    "name": "ipython",
    "version": 3
   },
   "file_extension": ".py",
   "mimetype": "text/x-python",
   "name": "python",
   "nbconvert_exporter": "python",
   "pygments_lexer": "ipython3",
   "version": "3.11.6"
  }
 },
 "nbformat": 4,
 "nbformat_minor": 2
}
