{
 "cells": [
  {
   "cell_type": "markdown",
   "metadata": {},
   "source": [
    "### Piecemeal Clustering\n",
    "A clustering approach without prior knowledge about data even number of clusters. It uses similarity and density of data to define number of clusters. \n",
    "\n",
    "### Reading the Paper\n",
    "#### Introduction\n",
    "- No noise: KMeans, SOM\n",
    "- Density-based: DBSCAN\n",
    "- Precedents: trial and errors, combinations of multiple methods\n",
    "- What is lithofaces, \n",
    "- The algorithm utilizes the density-based clustering combining the concepts of hierachical clustering, model-based unsupervised learning and density-based data clustering. \n",
    "\n",
    "### Reference:\n",
    "- https://ieeexplore.ieee.org/stamp/stamp.jsp?tp=&arnumber=9980364"
   ]
  },
  {
   "cell_type": "code",
   "execution_count": 2,
   "metadata": {},
   "outputs": [],
   "source": [
    "import numpy as np\n",
    "from sklearn import datasets\n",
    "from scipy.cluster import hierarchy as sch"
   ]
  },
  {
   "cell_type": "code",
   "execution_count": 3,
   "metadata": {},
   "outputs": [],
   "source": [
    "X, y = datasets.load_iris(as_frame=True, return_X_y=True)"
   ]
  },
  {
   "cell_type": "code",
   "execution_count": 115,
   "metadata": {},
   "outputs": [
    {
     "data": {
      "text/plain": [
       "(150, 4)"
      ]
     },
     "execution_count": 115,
     "metadata": {},
     "output_type": "execute_result"
    }
   ],
   "source": [
    "data = X.to_numpy()\n",
    "data.shape"
   ]
  },
  {
   "cell_type": "code",
   "execution_count": 94,
   "metadata": {},
   "outputs": [],
   "source": [
    "def merge_cluster(clusters, i, j):\n",
    "    for t in range(len(clusters)):\n",
    "        if clusters[t] == j:\n",
    "            clusters[t] = clusters[i]\n",
    "    return clusters"
   ]
  },
  {
   "cell_type": "code",
   "execution_count": 44,
   "metadata": {},
   "outputs": [],
   "source": [
    "def ind_to_pair(d, index):\n",
    "    b = 1 - (2 * d) \n",
    "    i = (-b - np.sqrt(b ** 2 - 8 * index)) // 2\n",
    "    j = index + i * (b + i + 2) // 2 + 1\n",
    "    return (int(i), int(j))  "
   ]
  },
  {
   "cell_type": "code",
   "execution_count": 6,
   "metadata": {},
   "outputs": [],
   "source": [
    "def compute_dist_threshold(dmatrix, cutoff: float):\n",
    "    dmin = min(dmatrix)\n",
    "    dmax = max(dmatrix)\n",
    "    return (1 - (dmin / dmax)) * cutoff\n",
    "\n",
    "def compute_sim_threshold(smatrix, cutoff: float, diff_factor: float):\n",
    "    dmin = min(smatrix)\n",
    "    dmax = max(smatrix)\n",
    "    return (1 - (dmin / dmax)) * cutoff * diff_factor"
   ]
  },
  {
   "cell_type": "code",
   "execution_count": 15,
   "metadata": {},
   "outputs": [
    {
     "data": {
      "text/plain": [
       "array([0.28675287, 0.60551539, 0.42110211, 3.31662479, 0.64221174,\n",
       "       0.69558586, 0.29548666, 0.55783621, 0.63621075, 0.26977617,\n",
       "       0.17702306, 2.39464726, 0.38896823, 0.35578994, 0.05554939,\n",
       "       0.26940002, 0.27795733, 0.29224733, 1.50406905, 0.15069373,\n",
       "       0.11712941, 0.34582458, 0.12824068, 0.09180799, 2.60290517,\n",
       "       0.38148099, 0.31347667, 0.18857975, 0.15710407, 0.22125251,\n",
       "       1.78792366, 1.4378006 , 2.55690203, 1.8671803 , 1.54938928,\n",
       "       0.1126581 , 0.48341742, 0.19271124, 0.21248678, 0.41655187,\n",
       "       0.11230984, 0.08542569, 0.30852329, 0.31618096, 0.07994497])"
      ]
     },
     "execution_count": 15,
     "metadata": {},
     "output_type": "execute_result"
    }
   ],
   "source": [
    "def compute_cluster_distances(dmatrix, smatrix, diff_factor: float):\n",
    "    dmax = max(dmatrix)\n",
    "    smax = max(smatrix)\n",
    "\n",
    "    dmatrix = dmatrix / dmax\n",
    "    dmatrix = dmatrix ** 2\n",
    "    smatrix = smatrix / smax\n",
    "    smatrix = diff_factor * (smatrix**2)\n",
    "\n",
    "    return np.sqrt(dmatrix + smatrix)\n",
    "\n",
    "compute_cluster_distances(dist_matrix, sim_matrix, 10)"
   ]
  },
  {
   "cell_type": "code",
   "execution_count": 133,
   "metadata": {},
   "outputs": [
    {
     "name": "stdout",
     "output_type": "stream",
     "text": [
      "Minimum distance: 0.15074813431681336\n",
      "[  0   0   0   0   0   0   0   0   0   0   0   0   0   0   0   0   0   0\n",
      "   0   0   0   0   0   0   0   0   0   0   0   0   0   0   0   0   0   0\n",
      "   0   0   0   0   0   0   0   0   0   0   0   0   0   0  50  50  50  53\n",
      "  50  53  50  53  50  53  53  53  53  50  53  50  53  53  50  53  50  53\n",
      "  50  50  50  50  50  50  50  53  53  53  53  50  53  50  50  50  53  53\n",
      "  53  50  53  53  53  53  53  50  53  53 100  50 102  50  50 102  53 102\n",
      "  50 102  50  50  50  50  50  50  50 102 102  50  50  50 102  50  50 102\n",
      "  50  50  50 102 102 102  50  50  50 102  50  50  50  50  50  50  50  50\n",
      "  50  50  50  50  50  50]\n"
     ]
    }
   ],
   "source": [
    "def pre_clustering(clusters, cluster_centers, cutoff: float, diff_factor: float):\n",
    "    dmatrix = sch.distance.pdist(cluster_centers, metric=\"euclidean\")\n",
    "    smatrix = sch.distance.pdist(cluster_centers, metric=\"cosine\")\n",
    "    dt = compute_dist_threshold(dmatrix, cutoff)\n",
    "    st = compute_sim_threshold(smatrix, cutoff, diff_factor)\n",
    "    tds = np.sqrt(dt**2 + st**2)\n",
    "    cd = compute_cluster_distances(dmatrix, smatrix, diff_factor)\n",
    "    dim = len(cluster_centers)\n",
    "\n",
    "    print(f\"Minimum distance: {tds}\")\n",
    "    sorted_cd = np.argsort(cd)\n",
    "    \n",
    "    for index in sorted_cd:\n",
    "        d = cd[index]\n",
    "        i, j = ind_to_pair(dim, index)\n",
    "        if d <= tds:\n",
    "            merge_cluster(clusters, i, j)\n",
    "\n",
    "    return clusters\n",
    "\n",
    "clusters = np.arange(0, len(data), 1)\n",
    "clusters = pre_clustering(clusters, data, 0.015, 10)\n",
    "print(clusters)"
   ]
  },
  {
   "cell_type": "code",
   "execution_count": 124,
   "metadata": {},
   "outputs": [
    {
     "data": {
      "text/plain": [
       "array([0, 0, 0, 0, 0, 0, 0, 0, 0, 0, 0, 0, 0, 0, 0, 0, 0, 0, 0, 0, 0, 0,\n",
       "       0, 0, 0, 0, 0, 0, 0, 0, 0, 0, 0, 0, 0, 0, 0, 0, 0, 0, 0, 0, 0, 0,\n",
       "       0, 0, 0, 0, 0, 0, 1, 1, 1, 1, 1, 1, 1, 1, 1, 1, 1, 1, 1, 1, 1, 1,\n",
       "       1, 1, 1, 1, 1, 1, 1, 1, 1, 1, 1, 1, 1, 1, 1, 1, 1, 1, 1, 1, 1, 1,\n",
       "       1, 1, 1, 1, 1, 1, 1, 1, 1, 1, 1, 1, 2, 2, 2, 2, 2, 2, 2, 2, 2, 2,\n",
       "       2, 2, 2, 2, 2, 2, 2, 2, 2, 2, 2, 2, 2, 2, 2, 2, 2, 2, 2, 2, 2, 2,\n",
       "       2, 2, 2, 2, 2, 2, 2, 2, 2, 2, 2, 2, 2, 2, 2, 2, 2, 2])"
      ]
     },
     "execution_count": 124,
     "metadata": {},
     "output_type": "execute_result"
    }
   ],
   "source": [
    "y.to_numpy()"
   ]
  },
  {
   "cell_type": "code",
   "execution_count": 20,
   "metadata": {},
   "outputs": [
    {
     "data": {
      "text/plain": [
       "10"
      ]
     },
     "execution_count": 20,
     "metadata": {},
     "output_type": "execute_result"
    }
   ],
   "source": [
    "len(data)"
   ]
  },
  {
   "cell_type": "code",
   "execution_count": null,
   "metadata": {},
   "outputs": [],
   "source": []
  }
 ],
 "metadata": {
  "kernelspec": {
   "display_name": "base",
   "language": "python",
   "name": "python3"
  },
  "language_info": {
   "codemirror_mode": {
    "name": "ipython",
    "version": 3
   },
   "file_extension": ".py",
   "mimetype": "text/x-python",
   "name": "python",
   "nbconvert_exporter": "python",
   "pygments_lexer": "ipython3",
   "version": "3.11.6"
  }
 },
 "nbformat": 4,
 "nbformat_minor": 2
}
