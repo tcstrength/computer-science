{
 "cells": [
  {
   "cell_type": "markdown",
   "metadata": {},
   "source": [
    "### Piecemeal Clustering\n",
    "A clustering approach without prior knowledge about data even number of clusters. It uses similarity and density of data to define number of clusters. \n",
    "\n",
    "### Reading the Paper\n",
    "#### Introduction\n",
    "- No noise: KMeans, SOM\n",
    "- Density-based: DBSCAN\n",
    "- Precedents: trial and errors, combinations of multiple methods\n",
    "- What is lithofaces, \n",
    "- The algorithm utilizes the density-based clustering combining the concepts of hierachical clustering, model-based unsupervised learning and density-based data clustering. \n",
    "\n",
    "### Reference:\n",
    "- https://ieeexplore.ieee.org/stamp/stamp.jsp?tp=&arnumber=9980364"
   ]
  },
  {
   "cell_type": "code",
   "execution_count": 11,
   "metadata": {},
   "outputs": [],
   "source": [
    "import numpy as np\n",
    "import pandas as pd\n",
    "from sklearn import datasets\n",
    "from scipy.cluster import hierarchy as sch"
   ]
  },
  {
   "cell_type": "code",
   "execution_count": 3,
   "metadata": {},
   "outputs": [],
   "source": [
    "X, y = datasets.load_iris(as_frame=True, return_X_y=True)"
   ]
  },
  {
   "cell_type": "code",
   "execution_count": 4,
   "metadata": {},
   "outputs": [
    {
     "data": {
      "text/plain": [
       "(150, 4)"
      ]
     },
     "execution_count": 4,
     "metadata": {},
     "output_type": "execute_result"
    }
   ],
   "source": [
    "data = X.to_numpy()\n",
    "data.shape"
   ]
  },
  {
   "cell_type": "code",
   "execution_count": 5,
   "metadata": {},
   "outputs": [],
   "source": [
    "def merge_cluster(clusters, i, j):\n",
    "    for t in range(len(clusters)):\n",
    "        if clusters[t] == j:\n",
    "            clusters[t] = clusters[i]\n",
    "    return clusters"
   ]
  },
  {
   "cell_type": "code",
   "execution_count": 6,
   "metadata": {},
   "outputs": [],
   "source": [
    "def ind_to_pair(d, index):\n",
    "    b = 1 - (2 * d) \n",
    "    i = (-b - np.sqrt(b ** 2 - 8 * index)) // 2\n",
    "    j = index + i * (b + i + 2) // 2 + 1\n",
    "    return (int(i), int(j))  "
   ]
  },
  {
   "cell_type": "code",
   "execution_count": 7,
   "metadata": {},
   "outputs": [],
   "source": [
    "def compute_dist_threshold(dmatrix, cutoff: float):\n",
    "    dmin = min(dmatrix)\n",
    "    dmax = max(dmatrix)\n",
    "    return (1 - (dmin / dmax)) * cutoff\n",
    "\n",
    "def compute_sim_threshold(smatrix, cutoff: float, diff_factor: float):\n",
    "    dmin = min(smatrix)\n",
    "    dmax = max(smatrix)\n",
    "    return (1 - (dmin / dmax)) * cutoff * diff_factor"
   ]
  },
  {
   "cell_type": "code",
   "execution_count": 8,
   "metadata": {},
   "outputs": [],
   "source": [
    "def compute_cluster_distances(dmatrix, smatrix, diff_factor: float):\n",
    "    dmax = max(dmatrix)\n",
    "    smax = max(smatrix)\n",
    "\n",
    "    dmatrix = dmatrix / dmax\n",
    "    dmatrix = dmatrix ** 2\n",
    "    smatrix = smatrix / smax\n",
    "    smatrix = diff_factor * (smatrix**2)\n",
    "\n",
    "    return np.sqrt(dmatrix + smatrix)"
   ]
  },
  {
   "cell_type": "code",
   "execution_count": 33,
   "metadata": {},
   "outputs": [],
   "source": [
    "def compute_cluster_centers(clusters, data):\n",
    "    data = np.column_stack((data, clusters))\n",
    "    df = pd.DataFrame(data, columns=[\"x1\", \"x2\", \"x3\", \"x4\", \"cluster\"])\n",
    "    df[\"cluster\"] = df[\"cluster\"].astype(int)\n",
    "    df = df.groupby(by=[\"cluster\"]).mean()\n",
    "    return df.to_numpy()"
   ]
  },
  {
   "cell_type": "code",
   "execution_count": 34,
   "metadata": {},
   "outputs": [
    {
     "name": "stdout",
     "output_type": "stream",
     "text": [
      "Minimum distance: 0.15074813431681336\n",
      "[5.006 3.428 1.462 0.246]\n"
     ]
    }
   ],
   "source": [
    "def pre_clustering(clusters, cluster_centers, cutoff: float, diff_factor: float):\n",
    "    dmatrix = sch.distance.pdist(cluster_centers, metric=\"euclidean\")\n",
    "    smatrix = sch.distance.pdist(cluster_centers, metric=\"cosine\")\n",
    "    dt = compute_dist_threshold(dmatrix, cutoff)\n",
    "    st = compute_sim_threshold(smatrix, cutoff, diff_factor)\n",
    "    tds = np.sqrt(dt**2 + st**2)\n",
    "    cd = compute_cluster_distances(dmatrix, smatrix, diff_factor)\n",
    "    dim = len(cluster_centers)\n",
    "\n",
    "    print(f\"Minimum distance: {tds}\")\n",
    "    sorted_cd = np.argsort(cd)\n",
    "    \n",
    "    for index in sorted_cd:\n",
    "        d = cd[index]\n",
    "        i, j = ind_to_pair(dim, index)\n",
    "        if d <= tds:\n",
    "            merge_cluster(clusters, i, j)\n",
    "\n",
    "    return clusters\n",
    "\n",
    "clusters = np.arange(0, len(data), 1)\n",
    "clusters = pre_clustering(clusters, data, 0.015, 10)\n",
    "centers = compute_cluster_centers(clusters, data)\n",
    "print(centers[0])"
   ]
  },
  {
   "cell_type": "code",
   "execution_count": 32,
   "metadata": {},
   "outputs": [
    {
     "data": {
      "text/plain": [
       "array([[5.006     , 3.428     , 1.462     , 0.246     ],\n",
       "       [6.36101695, 2.92542373, 5.05254237, 1.79830508],\n",
       "       [5.53214286, 2.63571429, 3.96071429, 1.22857143],\n",
       "       [6.3       , 3.3       , 6.        , 2.5       ],\n",
       "       [7.475     , 3.125     , 6.3       , 2.05      ]])"
      ]
     },
     "execution_count": 32,
     "metadata": {},
     "output_type": "execute_result"
    }
   ],
   "source": [
    "def train_som(data, W, alpha, N):\n",
    "    \"\"\"This is the modifed version of training Self-organizing map\n",
    "    Args:\n",
    "    - data: input data shape (m, n)\n",
    "    - W: weight matrix, in piecemeal, the weight matrix is the cluster centers\n",
    "    - alpha: learning rate\n",
    "    - N: number of iterations\n",
    "    \"\"\"\n",
    "    dmatrix = sch.distance.pdist(W, metric=\"euclidean\")\n",
    "    smatrix = sch.distance.pdist(W, metric=\"cosine\")\n",
    "    radius_dist = \n",
    "    radius_sim = \n",
    "    for i in range(N):\n"
   ]
  },
  {
   "cell_type": "code",
   "execution_count": null,
   "metadata": {},
   "outputs": [],
   "source": []
  }
 ],
 "metadata": {
  "kernelspec": {
   "display_name": "base",
   "language": "python",
   "name": "python3"
  },
  "language_info": {
   "codemirror_mode": {
    "name": "ipython",
    "version": 3
   },
   "file_extension": ".py",
   "mimetype": "text/x-python",
   "name": "python",
   "nbconvert_exporter": "python",
   "pygments_lexer": "ipython3",
   "version": "3.11.6"
  }
 },
 "nbformat": 4,
 "nbformat_minor": 2
}
