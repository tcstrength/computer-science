{
 "cells": [
  {
   "cell_type": "code",
   "execution_count": 1,
   "metadata": {},
   "outputs": [],
   "source": [
    "%load_ext autoreload\n",
    "%autoreload 2"
   ]
  },
  {
   "cell_type": "code",
   "execution_count": 2,
   "metadata": {},
   "outputs": [],
   "source": [
    "from torchfm.model import TorchFM\n",
    "from torchfm.model import ModelTrainer\n",
    "from torchfm.data import movielens100k"
   ]
  },
  {
   "cell_type": "code",
   "execution_count": 3,
   "metadata": {},
   "outputs": [],
   "source": [
    "train = movielens100k.load(train=True)\n",
    "test = movielens100k.load(train=False)"
   ]
  },
  {
   "cell_type": "code",
   "execution_count": 4,
   "metadata": {},
   "outputs": [
    {
     "name": "stderr",
     "output_type": "stream",
     "text": [
      "\u001b[32m2024-11-30 19:21:13.530\u001b[0m | \u001b[1mINFO    \u001b[0m | \u001b[36mtorchfm.model._trainer\u001b[0m:\u001b[36mtrain\u001b[0m:\u001b[36m38\u001b[0m - \u001b[1mCompleted create DataLoader.\u001b[0m\n",
      "Training: 100%|██████████| 5/5 [00:10<00:00,  2.08s/it, batch=625, loss=0.8905]\n",
      "\u001b[32m2024-11-30 19:21:23.930\u001b[0m | \u001b[1mINFO    \u001b[0m | \u001b[36mtorchfm.model._trainer\u001b[0m:\u001b[36mtrain\u001b[0m:\u001b[36m57\u001b[0m - \u001b[1mTotal training time: 10.40 seconds\u001b[0m\n"
     ]
    }
   ],
   "source": [
    "model = TorchFM(\n",
    "    train.user_input_dim,\n",
    "    train.item_input_dim\n",
    ")\n",
    "trainer = ModelTrainer(\n",
    "    model,\n",
    "    dataset=train,\n",
    "    learning_rate=1e-3\n",
    ")\n",
    "trainer.train()"
   ]
  },
  {
   "cell_type": "code",
   "execution_count": 15,
   "metadata": {},
   "outputs": [],
   "source": [
    "import numpy as np\n",
    "from torchfm.model.evaluation import auc_score\n",
    "auc_scores = []\n",
    "for user_id in train.get_all_user_ids():\n",
    "    item_ids = train.get_all_item_ids()\n",
    "    scores = []\n",
    "    for item_id in item_ids:\n",
    "        score = trainer.predict_by_id(user_id, item_id)\n",
    "        scores.append(score)\n",
    "\n",
    "    ground_truth = np.zeros((len(item_ids), ))\n",
    "    for x, _ in train.get_interacted_items(user_id):\n",
    "        for i, t in enumerate(item_ids):\n",
    "            if x == t:\n",
    "                ground_truth[i] = 1\n",
    "\n",
    "    auc_scores.append(auc_score(np.array(scores), ground_truth))"
   ]
  }
 ],
 "metadata": {
  "kernelspec": {
   "display_name": "torchfm-O2Sk2rc8-py3.12",
   "language": "python",
   "name": "python3"
  },
  "language_info": {
   "codemirror_mode": {
    "name": "ipython",
    "version": 3
   },
   "file_extension": ".py",
   "mimetype": "text/x-python",
   "name": "python",
   "nbconvert_exporter": "python",
   "pygments_lexer": "ipython3",
   "version": "3.12.6"
  }
 },
 "nbformat": 4,
 "nbformat_minor": 2
}
