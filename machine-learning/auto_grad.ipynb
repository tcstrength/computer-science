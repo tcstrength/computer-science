{
 "cells": [
  {
   "cell_type": "code",
   "execution_count": 1,
   "metadata": {},
   "outputs": [],
   "source": [
    "class Variable:\n",
    "    def __init__(self, value, name, no_grad: bool=False):\n",
    "        self.value = value\n",
    "        self.name = name\n",
    "        self.no_grad = no_grad\n",
    "        self.grad_fn = None\n",
    "        self.grad = 0\n",
    "\n",
    "    def __repr__(self):\n",
    "        return \"{0:.2f}\".format(self.value)\n",
    "    \n",
    "    def backward(self, grad = 1):\n",
    "        if self.no_grad is True:\n",
    "            return\n",
    "        \n",
    "        if self.grad_fn is None:\n",
    "            return\n",
    "        \n",
    "        self.grad_fn.backward(self.grad + grad)"
   ]
  },
  {
   "cell_type": "code",
   "execution_count": 2,
   "metadata": {},
   "outputs": [],
   "source": [
    "class Operation:\n",
    "    def __call__(self, *inputs):\n",
    "        self.inputs = inputs\n",
    "        o = self.forward()\n",
    "        o.grad_fn = self\n",
    "        return o\n",
    "    \n",
    "    def forward(self):\n",
    "        raise NotImplementedError\n",
    "    \n",
    "    def backward(self, grad):\n",
    "        raise NotImplementedError"
   ]
  },
  {
   "cell_type": "code",
   "execution_count": 3,
   "metadata": {},
   "outputs": [],
   "source": [
    "class Power(Operation):\n",
    "    def __init__(self, e: int):\n",
    "        self.e = e\n",
    "\n",
    "    def forward(self):\n",
    "        x, = self.inputs\n",
    "        name = f\"({x.name}**{self.e})\"\n",
    "        return Variable(x.value ** self.e, name)\n",
    "    \n",
    "    def backward(self, grad):\n",
    "        # print(f\"Gradient propagated: {grad}\")\n",
    "        x, = self.inputs\n",
    "        d = self.e - 1\n",
    "        grad = grad * self.e * (x.value ** d)\n",
    "        x.backward(grad)\n",
    "        x.grad = grad"
   ]
  },
  {
   "cell_type": "code",
   "execution_count": 4,
   "metadata": {},
   "outputs": [],
   "source": [
    "class Add(Operation):\n",
    "    def forward(self):\n",
    "        x, y = self.inputs\n",
    "        name = f\"({x.name}+{y.name})\"\n",
    "        return Variable(x.value + y.value, name)\n",
    "    \n",
    "    def backward(self, grad):\n",
    "        # print(f\"Gradient propagated: {grad}\")\n",
    "        x, y = self.inputs\n",
    "        x.backward(grad)\n",
    "        y.backward(grad)\n",
    "        x.grad = grad\n",
    "        y.grad = grad"
   ]
  },
  {
   "cell_type": "code",
   "execution_count": 5,
   "metadata": {},
   "outputs": [],
   "source": [
    "class Subtract(Operation):\n",
    "    def forward(self):\n",
    "        x, y = self.inputs\n",
    "        name = f\"({x.name}-{y.name})\"\n",
    "        return Variable(x.value - y.value, name)\n",
    "\n",
    "    def backward(self, grad):\n",
    "        # print(f\"Gradient propagated: {grad}\")\n",
    "        x, y = self.inputs\n",
    "        x.backward(grad)\n",
    "        y.backward(-grad)\n",
    "        x.grad = grad\n",
    "        y.grad = -grad"
   ]
  },
  {
   "cell_type": "code",
   "execution_count": 6,
   "metadata": {},
   "outputs": [],
   "source": [
    "class Multiply(Operation):\n",
    "    def forward(self):\n",
    "        x, y = self.inputs\n",
    "        name = f\"({x.name}*{y.name})\"\n",
    "        return Variable(x.value * y.value, name)\n",
    "    \n",
    "    def backward(self, grad):\n",
    "        # print(f\"Gradient propagated: {grad}\")\n",
    "        x, y = self.inputs\n",
    "        x.backward(grad * x.value)\n",
    "        y.backward(grad * x.value)\n",
    "        x.grad = grad * x.value\n",
    "        y.grad = grad * y.value"
   ]
  },
  {
   "cell_type": "code",
   "execution_count": null,
   "metadata": {},
   "outputs": [],
   "source": []
  },
  {
   "cell_type": "markdown",
   "metadata": {},
   "source": [
    "### Example 1\n",
    "- Learning rate: 0.01\n",
    "- g(x) = 2 * x\n",
    "- f(x, y) = y * g(x)\n",
    "- z(x, y) = (49 - f(x, y)) ** 2"
   ]
  },
  {
   "cell_type": "code",
   "execution_count": 7,
   "metadata": {},
   "outputs": [],
   "source": [
    "alpha = 0.0001\n",
    "a = Variable(2, \"a\", no_grad = True)\n",
    "b = Variable(2, \"b\", no_grad = True)\n",
    "c = Variable(49, \"c\", no_grad = True)\n",
    "x = Variable(2, \"x\")\n",
    "y = Variable(3, \"y\")"
   ]
  },
  {
   "cell_type": "code",
   "execution_count": 8,
   "metadata": {},
   "outputs": [
    {
     "name": "stdout",
     "output_type": "stream",
     "text": [
      "Loss: 1369.00, input: (2.00, 3.00), grad: (-592, -222)\n",
      "Loss: 1336.15, input: (2.06, 3.02), grad: (-619.9897234555995, -220.94319881548802)\n",
      "Loss: 1302.12, input: (2.12, 3.04), grad: (-649.4537333273637, -219.70606370711485)\n",
      "Loss: 1266.89, input: (2.19, 3.07), grad: (-680.435854221854, -218.2776158830505)\n",
      "Loss: 1230.45, input: (2.25, 3.09), grad: (-712.9704947144901, -216.646485625168)\n",
      "Loss: 1192.78, input: (2.33, 3.11), grad: (-747.0794686668054, -214.80096534387556)\n",
      "Loss: 1153.88, input: (2.40, 3.13), grad: (-782.7681855251886, -212.72908261576163)\n",
      "Loss: 1113.77, input: (2.48, 3.15), grad: (-820.0211374318666, -210.41869726491618)\n",
      "Loss: 1072.46, input: (2.56, 3.17), grad: (-858.7966215627147, -207.8576270274884)\n",
      "Loss: 1029.98, input: (2.65, 3.19), grad: (-899.0206571126828, -205.0338067561489)\n"
     ]
    }
   ],
   "source": [
    "for i in range(10):\n",
    "    x.grad = 0\n",
    "    y.grad = 0\n",
    "    z = Multiply()(a, x)\n",
    "    s = Multiply()(z, y)\n",
    "    t = Subtract()(c, s)\n",
    "    L = Power(2)(t)\n",
    "    L.backward()\n",
    "    print(f\"Loss: {L}, input: {x, y}, grad: {x.grad, y.grad}\")\n",
    "    x_grad = x.grad\n",
    "    y_grad = y.grad\n",
    "    x.value = x.value - (alpha * x.grad)\n",
    "    y.value = y.value - (alpha * y.grad)"
   ]
  },
  {
   "cell_type": "code",
   "execution_count": 9,
   "metadata": {},
   "outputs": [
    {
     "data": {
      "text/plain": [
       "'((c-((a*x)*y))**2)'"
      ]
     },
     "execution_count": 9,
     "metadata": {},
     "output_type": "execute_result"
    }
   ],
   "source": [
    "L.name"
   ]
  },
  {
   "cell_type": "markdown",
   "metadata": {},
   "source": [
    "### Example 2\n",
    "- Learning rate: 0.01\n",
    "- $(49-(x+y))^2$"
   ]
  },
  {
   "cell_type": "code",
   "execution_count": 10,
   "metadata": {},
   "outputs": [],
   "source": [
    "alpha = 0.01\n",
    "a = Variable(49, \"a\", no_grad = True)\n",
    "x = Variable(2, \"x\")\n",
    "y = Variable(3, \"y\")"
   ]
  },
  {
   "cell_type": "code",
   "execution_count": 11,
   "metadata": {},
   "outputs": [
    {
     "name": "stdout",
     "output_type": "stream",
     "text": [
      "Loss: 1936.00, input: (2.00, 3.00), grad: (-88, -88)\n",
      "Loss: 1784.22, input: (2.88, 3.88), grad: (-84.48, -84.48)\n",
      "Loss: 1644.33, input: (3.72, 4.72), grad: (-81.10079999999999, -81.10079999999999)\n",
      "Loss: 1515.42, input: (4.54, 5.54), grad: (-77.856768, -77.856768)\n",
      "Loss: 1396.61, input: (5.31, 6.31), grad: (-74.74249728, -74.74249728)\n",
      "Loss: 1287.12, input: (6.06, 7.06), grad: (-71.75279738879999, -71.75279738879999)\n",
      "Loss: 1186.21, input: (6.78, 7.78), grad: (-68.882685493248, -68.882685493248)\n",
      "Loss: 1093.21, input: (7.47, 8.47), grad: (-66.12737807351807, -66.12737807351807)\n",
      "Loss: 1007.50, input: (8.13, 9.13), grad: (-63.48228295057736, -63.48228295057736)\n",
      "Loss: 928.51, input: (8.76, 9.76), grad: (-60.942991632554254, -60.942991632554254)\n"
     ]
    }
   ],
   "source": [
    "for i in range(10):\n",
    "    x.grad = 0\n",
    "    y.grad = 0\n",
    "    z = Add()(x, y)\n",
    "    t = Subtract()(a, z)\n",
    "    L = Multiply()(t, t)\n",
    "    L.backward()\n",
    "    print(f\"Loss: {L}, input: {x, y}, grad: {x.grad, y.grad}\")\n",
    "    x_grad = x.grad\n",
    "    y_grad = y.grad\n",
    "    x.value = x.value - (alpha * x.grad)\n",
    "    y.value = y.value - (alpha * y.grad)"
   ]
  },
  {
   "cell_type": "code",
   "execution_count": 12,
   "metadata": {},
   "outputs": [
    {
     "data": {
      "text/plain": [
       "'((a-(x+y))*(a-(x+y)))'"
      ]
     },
     "execution_count": 12,
     "metadata": {},
     "output_type": "execute_result"
    }
   ],
   "source": [
    "L.name"
   ]
  }
 ],
 "metadata": {
  "kernelspec": {
   "display_name": "base",
   "language": "python",
   "name": "python3"
  },
  "language_info": {
   "codemirror_mode": {
    "name": "ipython",
    "version": 3
   },
   "file_extension": ".py",
   "mimetype": "text/x-python",
   "name": "python",
   "nbconvert_exporter": "python",
   "pygments_lexer": "ipython3",
   "version": "3.11.6"
  }
 },
 "nbformat": 4,
 "nbformat_minor": 2
}
