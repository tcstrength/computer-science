{
 "cells": [
  {
   "cell_type": "markdown",
   "id": "4874b01b-d1ce-4bf2-a858-c534ed9fb890",
   "metadata": {},
   "source": [
    "### Bayes' Rule\n",
    "From Wikipedia, \"describes the probability of an event, based on prior knowledge of conditions that might be related to the event. For example, if the risk of developing health problems is known to increase with age, Bayes' theorem allows the risk to an individual of a known age to be assessed more accurately by conditioning it relative to their age, rather than assuming that the individual is typical of the population as a whole.\"\n",
    "\n",
    "$$P(A|B) = \\frac{P(A) P(B|A)}{P(B)}$$\n",
    "\n",
    "- The $P(A|B)$ is the posterior\n",
    "- The $P(A)$ is the prior\n",
    "- The $P(B|A)$ is the likelihood\n",
    "- The $P(B)$ is the evidence\n",
    "\n",
    "### Naive Asumption\n",
    "The naive part comes from the assumption that all features are independent which are not always true in real world problems but this assumption works quite well in practice. For example from an unknown joint distribution $(X_1,X_2,...,X_n)$:\n",
    "$$P(Y=0|X_1, X_2,..., X_n) = \\frac{P(X_1,X_2,...,X_n|Y=0) P(Y=0)}{P(X_1,X_2,...,X_n)}$$\n",
    "\n",
    "Because of the naive assumption, the formula will be:\n",
    "$$P(Y=0|X_1, X_2,..., X_n) = \\Pi \\frac{P(X_i|Y=0)P(Y=0)}{P(X_i)}$$"
   ]
  },
  {
   "cell_type": "code",
   "execution_count": null,
   "id": "465d5ad7-6a17-401d-ad88-265644a6c9d1",
   "metadata": {},
   "outputs": [],
   "source": []
  }
 ],
 "metadata": {
  "kernelspec": {
   "display_name": "Python 3 (ipykernel)",
   "language": "python",
   "name": "python3"
  },
  "language_info": {
   "codemirror_mode": {
    "name": "ipython",
    "version": 3
   },
   "file_extension": ".py",
   "mimetype": "text/x-python",
   "name": "python",
   "nbconvert_exporter": "python",
   "pygments_lexer": "ipython3",
   "version": "3.11.6"
  }
 },
 "nbformat": 4,
 "nbformat_minor": 5
}
