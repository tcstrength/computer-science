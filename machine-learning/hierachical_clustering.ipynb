{
 "cells": [
  {
   "cell_type": "markdown",
   "metadata": {},
   "source": [
    "### Hierachical Clustering\n",
    "Hierachical Clustering is a method of cluster analysis that seeks building a hierachy of clusters. There are two strategies:\n",
    "- Hierachical Agglomerative Clustering (HAC) is bottom-up approach which considers each data point as its own cluster, pairs of clusters are merged as one moves up the hierachy\n",
    "- Hierachical Divisive Clustering (HDC) is top-down approach, this strategy is in the opposite way which consider all data points as single cluster, and splits are performend as one moves down the hierachy\n",
    "\n",
    "### Linkage criterion\n",
    "To decide which clusters to merge up (agglomerative) or split down (divisive), a measure of dissimilarity between sets of observations is required. This can be achieved by using an appropriate distance d, and a linkage criterion which specifies the dissimilarity of two sets. There are some linkage criterions:\n",
    "- Complete-linkage clustering\n",
    "- Single-linkage clustering\n",
    "- Unweighted average linkage clustering\n",
    "- Weighted average linkage clustering\n",
    "- Centroid linkage clustering\n",
    "- Median linkage clustering"
   ]
  },
  {
   "cell_type": "markdown",
   "metadata": {},
   "source": [
    "### Implementation"
   ]
  },
  {
   "cell_type": "code",
   "execution_count": 53,
   "metadata": {},
   "outputs": [],
   "source": [
    "import numpy as np\n",
    "import scipy.cluster.hierarchy as sch\n",
    "import pandas as pd\n",
    "from matplotlib import pyplot as plt"
   ]
  },
  {
   "cell_type": "code",
   "execution_count": 14,
   "metadata": {},
   "outputs": [
    {
     "data": {
      "text/plain": [
       "<matplotlib.collections.PathCollection at 0xffff646f9710>"
      ]
     },
     "execution_count": 14,
     "metadata": {},
     "output_type": "execute_result"
    },
    {
     "data": {
      "image/png": "[encoded data removed]",
      "text/plain": [
       "<Figure size 640x480 with 1 Axes>"
      ]
     },
     "metadata": {},
     "output_type": "display_data"
    }
   ],
   "source": [
    "data = np.array([[1, 2], [1.5, 1.8], [5, 8], [8, 8], [1, 0.6], [9, 11]])\n",
    "plt.scatter(data[:, 0], data[:, 1])"
   ]
  },
  {
   "cell_type": "code",
   "execution_count": 40,
   "metadata": {},
   "outputs": [],
   "source": [
    "def distance(p, q):\n",
    "    return np.sqrt(np.sum((p - q)**2))"
   ]
  },
  {
   "cell_type": "markdown",
   "metadata": {},
   "source": [
    "### Build dissimilarity matrix\n",
    "- Because the dissimilarity matrix is hollow matrix, the number of elements need to be store will be C(n, 2)\n",
    "- The scipy library already build a function to compute the distance matrix as expected\n",
    "- The number of new clusters is (n - 1) obviously"
   ]
  },
  {
   "cell_type": "code",
   "execution_count": 66,
   "metadata": {},
   "outputs": [
    {
     "data": {
      "text/html": [
       "<div>\n",
       "<style scoped>\n",
       "    .dataframe tbody tr th:only-of-type {\n",
       "        vertical-align: middle;\n",
       "    }\n",
       "\n",
       "    .dataframe tbody tr th {\n",
       "        vertical-align: top;\n",
       "    }\n",
       "\n",
       "    .dataframe thead th {\n",
       "        text-align: right;\n",
       "    }\n",
       "</style>\n",
       "<table border=\"1\" class=\"dataframe\">\n",
       "  <thead>\n",
       "    <tr style=\"text-align: right;\">\n",
       "      <th></th>\n",
       "      <th>0</th>\n",
       "      <th>1</th>\n",
       "      <th>2</th>\n",
       "      <th>3</th>\n",
       "      <th>4</th>\n",
       "      <th>5</th>\n",
       "    </tr>\n",
       "  </thead>\n",
       "  <tbody>\n",
       "    <tr>\n",
       "      <th>0</th>\n",
       "      <td>0.000000</td>\n",
       "      <td>0.538516</td>\n",
       "      <td>7.211103</td>\n",
       "      <td>9.219544</td>\n",
       "      <td>1.400000</td>\n",
       "      <td>12.041595</td>\n",
       "    </tr>\n",
       "    <tr>\n",
       "      <th>1</th>\n",
       "      <td>0.538516</td>\n",
       "      <td>0.000000</td>\n",
       "      <td>7.119691</td>\n",
       "      <td>8.982761</td>\n",
       "      <td>1.300000</td>\n",
       "      <td>11.869709</td>\n",
       "    </tr>\n",
       "    <tr>\n",
       "      <th>2</th>\n",
       "      <td>7.211103</td>\n",
       "      <td>7.119691</td>\n",
       "      <td>0.000000</td>\n",
       "      <td>3.000000</td>\n",
       "      <td>8.411896</td>\n",
       "      <td>5.000000</td>\n",
       "    </tr>\n",
       "    <tr>\n",
       "      <th>3</th>\n",
       "      <td>9.219544</td>\n",
       "      <td>8.982761</td>\n",
       "      <td>3.000000</td>\n",
       "      <td>0.000000</td>\n",
       "      <td>10.186265</td>\n",
       "      <td>3.162278</td>\n",
       "    </tr>\n",
       "    <tr>\n",
       "      <th>4</th>\n",
       "      <td>1.400000</td>\n",
       "      <td>1.300000</td>\n",
       "      <td>8.411896</td>\n",
       "      <td>10.186265</td>\n",
       "      <td>0.000000</td>\n",
       "      <td>13.120976</td>\n",
       "    </tr>\n",
       "    <tr>\n",
       "      <th>5</th>\n",
       "      <td>12.041595</td>\n",
       "      <td>11.869709</td>\n",
       "      <td>5.000000</td>\n",
       "      <td>3.162278</td>\n",
       "      <td>13.120976</td>\n",
       "      <td>0.000000</td>\n",
       "    </tr>\n",
       "  </tbody>\n",
       "</table>\n",
       "</div>"
      ],
      "text/plain": [
       "           0          1         2          3          4          5\n",
       "0   0.000000   0.538516  7.211103   9.219544   1.400000  12.041595\n",
       "1   0.538516   0.000000  7.119691   8.982761   1.300000  11.869709\n",
       "2   7.211103   7.119691  0.000000   3.000000   8.411896   5.000000\n",
       "3   9.219544   8.982761  3.000000   0.000000  10.186265   3.162278\n",
       "4   1.400000   1.300000  8.411896  10.186265   0.000000  13.120976\n",
       "5  12.041595  11.869709  5.000000   3.162278  13.120976   0.000000"
      ]
     },
     "execution_count": 66,
     "metadata": {},
     "output_type": "execute_result"
    }
   ],
   "source": [
    "n = len(data)\n",
    "my_d_matrix = np.ones(shape=(n, n))\n",
    "for i in range(n):\n",
    "    for j in range(n):\n",
    "        my_d_matrix[i][j] = distance(data[i], data[j])\n",
    "pd.DataFrame(my_d_matrix)"
   ]
  },
  {
   "cell_type": "markdown",
   "metadata": {},
   "source": [
    "#### Simple merge implementation with single link\n",
    "__Todo__: update divisive approach"
   ]
  },
  {
   "cell_type": "code",
   "execution_count": 89,
   "metadata": {},
   "outputs": [
    {
     "name": "stdout",
     "output_type": "stream",
     "text": [
      "Merge (0, 1) = cluster 6\n",
      "Merge (1, 4) = cluster 7\n",
      "Merge (2, 3) = cluster 8\n",
      "Merge (3, 5) = cluster 9\n",
      "Merge (4, 5) = cluster 10\n"
     ]
    }
   ],
   "source": [
    "new_cluster_ind = n\n",
    "for i in range(0, n - 1):\n",
    "    sub = my_d_matrix[i, i+1:]\n",
    "    j = np.argmin(sub) + i + 1\n",
    "    print(f\"Merge ({i}, {j}) = cluster {new_cluster_ind}\")\n",
    "    new_cluster_ind += 1"
   ]
  },
  {
   "cell_type": "markdown",
   "metadata": {},
   "source": [
    "#### Scipy hierachical cluster module"
   ]
  },
  {
   "cell_type": "code",
   "execution_count": 73,
   "metadata": {},
   "outputs": [
    {
     "data": {
      "text/plain": [
       "array([ 0.53851648,  7.21110255,  9.21954446,  1.4       , 12.04159458,\n",
       "        7.119691  ,  8.98276127,  1.3       , 11.86970935,  3.        ,\n",
       "        8.41189634,  5.        , 10.18626526,  3.16227766, 13.12097557])"
      ]
     },
     "execution_count": 73,
     "metadata": {},
     "output_type": "execute_result"
    }
   ],
   "source": [
    "d_matrix = sch.distance.pdist(data)\n",
    "d_matrix"
   ]
  },
  {
   "cell_type": "code",
   "execution_count": 71,
   "metadata": {},
   "outputs": [],
   "source": [
    "linkage_matrix = sch.linkage(d_matrix, method='single')"
   ]
  },
  {
   "cell_type": "code",
   "execution_count": 69,
   "metadata": {},
   "outputs": [
    {
     "data": {
      "text/plain": [
       "{'icoord': [[15.0, 15.0, 25.0, 25.0],\n",
       "  [5.0, 5.0, 20.0, 20.0],\n",
       "  [45.0, 45.0, 55.0, 55.0],\n",
       "  [35.0, 35.0, 50.0, 50.0],\n",
       "  [12.5, 12.5, 42.5, 42.5]],\n",
       " 'dcoord': [[0.0, 0.5385164807134504, 0.5385164807134504, 0.0],\n",
       "  [0.0, 1.5286159317064134, 1.5286159317064134, 0.5385164807134504],\n",
       "  [0.0, 3.0, 3.0, 0.0],\n",
       "  [0.0, 4.509249752822894, 4.509249752822894, 3.0],\n",
       "  [1.5286159317064134,\n",
       "   16.862285333449513,\n",
       "   16.862285333449513,\n",
       "   4.509249752822894]],\n",
       " 'ivl': ['4', '0', '1', '5', '2', '3'],\n",
       " 'leaves': [4, 0, 1, 5, 2, 3],\n",
       " 'color_list': ['C1', 'C1', 'C2', 'C2', 'C0'],\n",
       " 'leaves_color_list': ['C1', 'C1', 'C1', 'C2', 'C2', 'C2']}"
      ]
     },
     "execution_count": 69,
     "metadata": {},
     "output_type": "execute_result"
    },
    {
     "data": {
      "image/png": "[encoded data removed]",
      "text/plain": [
       "<Figure size 640x480 with 1 Axes>"
      ]
     },
     "metadata": {},
     "output_type": "display_data"
    }
   ],
   "source": [
    "sch.dendrogram(linkage_matrix)"
   ]
  }
 ],
 "metadata": {
  "kernelspec": {
   "display_name": "base",
   "language": "python",
   "name": "python3"
  },
  "language_info": {
   "codemirror_mode": {
    "name": "ipython",
    "version": 3
   },
   "file_extension": ".py",
   "mimetype": "text/x-python",
   "name": "python",
   "nbconvert_exporter": "python",
   "pygments_lexer": "ipython3",
   "version": "3.11.6"
  }
 },
 "nbformat": 4,
 "nbformat_minor": 2
}
