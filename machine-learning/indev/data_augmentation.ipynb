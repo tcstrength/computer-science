{
 "cells": [
  {
   "cell_type": "markdown",
   "metadata": {},
   "source": [
    "### Data Augmentation for NLP\n",
    "There are various techniques to increase your training set, and the way that you enrich your training set based on the original one is called data augmentation, this technique is so popular in both NLP and CV (Computer Vision) which to increase diversity for the data in such a way that the model can learn.\n",
    "\n",
    "For instance, you have a sentence \"I love cats\", from the sentence, you can make some similar ones such as: \"I am a cat lover\", \"Cats are the sunshine of my life\". The former sentence seems to have similar meaning with the original one, while the latter puts more expression into the sentence.\n",
    "\n",
    "To do it that way, there are some levels we could try:\n",
    "- Lexical-level augmentation: insert, delete, swap, replace words are called lexical-level augmentations, be careful to do so because it can lead to change the meaning of the original sentence, for example: \"I do not like bananas\", if you delete the word \"not\", the meaning is altered significantly.\n",
    "- Sentence-level augmentation: \n",
    "    - Back translation: translate the sentence into another language, and then translate back the original, it is a way to paraphrase your sentence!\n",
    "    - Text sumarization: summarize the sentence as additional data\n",
    "    - Paraphrasing: same as back translation, but less computation\n",
    "- Advanced techniques\n",
    "    - Contextual augmentation: use masked language model like BERT to generate replacements\n",
    "    - Generative techniques: use generative model such as GAN, GPT, and other seq2seq to generate new training samples\n",
    "\n",
    "Quality control is important, once you generate more training data, you have to deal with __overfitting__ causes from the augmented data, for example, you generate more sentences for \"I love cats\" than \"I love dogs\", the model may give more bias to \"cats\" and lower the probability of \"dogs\" appearing. Besides overfitting, __grammatical correctness__ and __meaning__ are also being taken into consideration. \n",
    "\n",
    "### Data Augmentation for CV"
   ]
  },
  {
   "cell_type": "markdown",
   "metadata": {},
   "source": [
    "### Implementation for NLP"
   ]
  },
  {
   "cell_type": "markdown",
   "metadata": {},
   "source": []
  },
  {
   "cell_type": "markdown",
   "metadata": {},
   "source": [
    "### Implementation for CV"
   ]
  },
  {
   "cell_type": "markdown",
   "metadata": {},
   "source": []
  }
 ],
 "metadata": {
  "language_info": {
   "name": "python"
  }
 },
 "nbformat": 4,
 "nbformat_minor": 2
}
