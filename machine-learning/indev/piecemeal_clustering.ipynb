{
 "cells": [
  {
   "cell_type": "markdown",
   "metadata": {},
   "source": [
    "### Piecemeal Clustering\n",
    "A clustering approach without prior knowledge about data even number of clusters. It uses similarity and density of data to define number of clusters. \n",
    "\n",
    "### Reading the Paper\n",
    "#### Introduction\n",
    "- No noise: KMeans, SOM\n",
    "- Density-based: DBSCAN\n",
    "- Precedents: trial and errors, combinations of multiple methods\n",
    "- What is lithofaces, \n",
    "- The algorithm utilizes the density-based clustering combining the concepts of hierachical clustering, model-based unsupervised learning and density-based data clustering. \n",
    "\n",
    "### Reference:\n",
    "- https://ieeexplore.ieee.org/stamp/stamp.jsp?tp=&arnumber=9980364"
   ]
  },
  {
   "cell_type": "code",
   "execution_count": 90,
   "metadata": {},
   "outputs": [],
   "source": [
    "import numpy as np\n",
    "import pandas as pd\n",
    "import matplotlib.pyplot as plt\n",
    "from typing import List\n",
    "from sklearn import datasets\n",
    "from scipy.cluster import hierarchy as sch\n",
    "from sklearn.decomposition import PCA\n",
    "from sklearn.preprocessing import MinMaxScaler"
   ]
  },
  {
   "cell_type": "code",
   "execution_count": 91,
   "metadata": {},
   "outputs": [],
   "source": [
    "X, y = datasets.load_iris(as_frame=True, return_X_y=True)"
   ]
  },
  {
   "cell_type": "code",
   "execution_count": 97,
   "metadata": {},
   "outputs": [],
   "source": [
    "X = X.to_numpy()\n",
    "y = y.to_numpy()\n",
    "scaler = MinMaxScaler()\n",
    "scaler.fit(X)\n",
    "X = scaler.transform(X)"
   ]
  },
  {
   "cell_type": "code",
   "execution_count": 98,
   "metadata": {},
   "outputs": [
    {
     "name": "stdout",
     "output_type": "stream",
     "text": [
      "Shape of X: (150, 4)\n",
      "Shape of y: (150,)\n",
      "Min scaled X: [0. 0. 0. 0.]\n",
      "Max scaled X: [1. 1. 1. 1.]\n"
     ]
    }
   ],
   "source": [
    "print(f\"Shape of X: {X.shape}\")\n",
    "print(f\"Shape of y: {y.shape}\")\n",
    "print(f\"Min scaled X: {np.min(X, axis=0)}\")\n",
    "print(f\"Max scaled X: {np.max(X, axis=0)}\")"
   ]
  },
  {
   "cell_type": "code",
   "execution_count": 99,
   "metadata": {},
   "outputs": [
    {
     "data": {
      "text/plain": [
       "Text(0.5, 1.0, 'Iris Flower (PCA)')"
      ]
     },
     "execution_count": 99,
     "metadata": {},
     "output_type": "execute_result"
    },
    {
     "data": {
      "image/png": "[encoded data removed]",
      "text/plain": [
       "<Figure size 500x400 with 1 Axes>"
      ]
     },
     "metadata": {},
     "output_type": "display_data"
    }
   ],
   "source": [
    "pca = PCA(n_components=2).fit(X)\n",
    "X_r = pca.transform(X)\n",
    "plt.figure(figsize=(5, 4))\n",
    "for i in np.unique(y):\n",
    "    t = X_r[y == i]\n",
    "    plt.scatter(t[:,0], t[:,1])\n",
    "plt.title(\"Iris Flower (PCA)\")"
   ]
  },
  {
   "cell_type": "markdown",
   "metadata": {},
   "source": [
    "### Structure"
   ]
  },
  {
   "cell_type": "code",
   "execution_count": 100,
   "metadata": {},
   "outputs": [],
   "source": [
    "class DataPoint:\n",
    "    def __init__(self, id, x, y):\n",
    "        self.x = x\n",
    "        self.y = y\n",
    "        self.id = id\n",
    "\n",
    "\n",
    "class ClusterMapping:\n",
    "    def __init__(self, data: List[DataPoint]):\n",
    "        self.data = data\n",
    "        self.id2c = {}\n",
    "\n",
    "        for d in self.data:\n",
    "            self.id2c[d.id] = d.id # Init cluster index = d.id\n",
    "\n",
    "    def get_clusters_items(self):\n",
    "        clusters = {}\n",
    "        for d in self.data:\n",
    "            cluster_index = self.id2c[d.id]\n",
    "            if cluster_index not in clusters:\n",
    "                clusters[cluster_index] = [d]\n",
    "            else:\n",
    "                clusters[cluster_index].append(d)\n",
    "\n",
    "        return clusters\n",
    "    \n",
    "    def get_clusters_labels(self):\n",
    "        clusters = self.get_clusters_items()\n",
    "        mapping = {}\n",
    "        for c, items in clusters.items():\n",
    "            labels = [d.y for d in items]\n",
    "            vals, counts = np.unique(labels, return_counts=True)\n",
    "            index = np.argmax(counts)\n",
    "            mode = vals[index]\n",
    "            mapping[c] = mode\n",
    "        return mapping\n",
    "    \n",
    "    def remap_cluster_indices(self, cluster_centers: dict, diff_factor: float):\n",
    "        center_vals = np.array(list(cluster_centers.values()))\n",
    "        max_e = max(sch.distance.pdist(center_vals, metric=\"euclid\"))\n",
    "        max_c = -9999\n",
    "        alpha = 1 / (1 + diff_factor)\n",
    "\n",
    "        for center in center_vals:\n",
    "            tmp = max([sch.distance.pdist([center, d.x], metric=\"cosine\") for d in self.data])\n",
    "            max_c = max(max_c, tmp)\n",
    "\n",
    "        for d in self.data:\n",
    "            min_delta = 99999\n",
    "            best_cluster = -1\n",
    "            for cluster, center in cluster_centers.items():\n",
    "                e_ij = sch.distance.pdist([center, d.x], metric=\"euclid\") / max_e\n",
    "                c_ij = sch.distance.pdist([center, d.x], metric=\"cosine\") / max_c\n",
    "                p1 = np.power((alpha * e_ij), 1 / diff_factor)\n",
    "                p2 = np.power((1 - alpha) * c_ij, 1 / diff_factor)\n",
    "                d_ij = np.power(p1 + p2, diff_factor)\n",
    "                if d_ij < min_delta:\n",
    "                    min_delta = d_ij\n",
    "                    best_cluster = cluster\n",
    "\n",
    "            # print(f\"Update cluster from {self.id2c[d.id]} to {min_cluster}\")\n",
    "            self.id2c[d.id] = best_cluster\n",
    "\n",
    "\n",
    "    def get_mapping_accuracy(self):\n",
    "        clusters = self.get_clusters_items()\n",
    "        mapping = self.get_clusters_labels()\n",
    "        accuracy = 0\n",
    "        for k, items in clusters.items():\n",
    "            label = mapping[k]\n",
    "            accuracy += sum([d.y == label for d in items])\n",
    "        return accuracy / len(self.data)\n",
    "    \n",
    "    def get_items(self, cluster: int):\n",
    "        items = []\n",
    "        for d in self.data:\n",
    "            if self.id2c[d.id] == cluster:\n",
    "                items.append(d)\n",
    "        return items\n",
    "\n",
    "    def get_all_centers(self, clusters = None):\n",
    "        if clusters is None:\n",
    "            clusters = self.get_clusters_items()\n",
    "        \n",
    "        centers = {}\n",
    "        for c, items in clusters.items():\n",
    "            arr = np.array([x.x for x in items])\n",
    "            centers[c] = arr.mean(axis=0)\n",
    "        return centers\n",
    "    \n",
    "    def get_center(self, cluster: int):\n",
    "        items = self.get_items(cluster)\n",
    "        arr = np.array([x.x for x in items])\n",
    "        center = arr.mean(axis=0)\n",
    "        return center\n",
    "    \n",
    "    def merge_cluster(self, a, b) -> int:\n",
    "        \"\"\"Merge cluster a to b\n",
    "        Args:\n",
    "            a (int): Cluster index to form new cluster\n",
    "            b (int): Cluster index to be moved\n",
    "        Returns:\n",
    "            int: number of items affected\n",
    "        \"\"\"\n",
    "        res = 0\n",
    "        clusters = self.get_clusters_items()\n",
    "        for c, items in clusters.items():\n",
    "            if c == a:\n",
    "                res += len(items)\n",
    "                for p in items:\n",
    "                    self.id2c[p.id] = b\n",
    "        return res"
   ]
  },
  {
   "cell_type": "markdown",
   "metadata": {},
   "source": [
    "### Pre Clustering"
   ]
  },
  {
   "cell_type": "code",
   "execution_count": 92,
   "metadata": {},
   "outputs": [],
   "source": [
    "def compute_dist_threshold(dmatrix, cutoff: float):\n",
    "    dmin = min(dmatrix)\n",
    "    dmax = max(dmatrix)\n",
    "    return (1 - (dmin / dmax)) * cutoff\n",
    "\n",
    "def compute_sim_threshold(smatrix, cutoff: float, diff_factor: float):\n",
    "    dmin = min(smatrix)\n",
    "    dmax = max(smatrix)\n",
    "    return (1 - (dmin / dmax)) * cutoff * diff_factor"
   ]
  },
  {
   "cell_type": "code",
   "execution_count": 93,
   "metadata": {},
   "outputs": [],
   "source": [
    "def pairwise_cluster_distances(cluster_map: ClusterMapping, diff_factor):\n",
    "    centers = cluster_map.get_all_centers()\n",
    "    centers = np.array(list(centers.values())) # n, dim\n",
    "    \n",
    "    dmatrix = sch.distance.pdist(X, metric=\"euclidean\")\n",
    "    smatrix = sch.distance.pdist(X, metric=\"cosine\")\n",
    "    dmax = max(dmatrix)\n",
    "    smax = max(smatrix)\n",
    "\n",
    "    dmatrix = dmatrix / dmax\n",
    "    dmatrix = dmatrix ** 2\n",
    "    \n",
    "    smatrix = smatrix / smax\n",
    "    smatrix = diff_factor * (smatrix ** 2)\n",
    "\n",
    "    pw_cd = np.sqrt(dmatrix + smatrix)\n",
    "    pw_cd = sch.distance.squareform(pw_cd)\n",
    "    for i in range(len(centers)):\n",
    "        pw_cd[i][i] = np.inf\n",
    "    return pw_cd"
   ]
  },
  {
   "cell_type": "code",
   "execution_count": 101,
   "metadata": {},
   "outputs": [],
   "source": [
    "def compute_thresholds(cluster_map: ClusterMapping, cutoff: float):\n",
    "    centers = cluster_map.get_all_centers()\n",
    "    centers = np.array(list(centers.values())) # n, dim\n",
    "\n",
    "    dmatrix = sch.distance.pdist(centers, metric=\"euclidean\")\n",
    "    smatrix = sch.distance.pdist(centers, metric=\"cosine\")\n",
    "\n",
    "    diff_factor = 1 / dmatrix.mean()\n",
    "    # diff_factor = 1 / np.linalg.norm(X, axis=1).mean()\n",
    "\n",
    "    dt = compute_dist_threshold(dmatrix, cutoff)\n",
    "    st = compute_sim_threshold(smatrix, cutoff, diff_factor)\n",
    "    tds = np.sqrt(dt**2 + st**2)\n",
    "    return diff_factor, tds"
   ]
  },
  {
   "cell_type": "code",
   "execution_count": 137,
   "metadata": {},
   "outputs": [],
   "source": [
    "def pre_clustering(cluster_map: ClusterMapping, cutoff: float):\n",
    "    centers = cluster_map.get_all_centers()\n",
    "    diff_factor, tds = compute_thresholds(cluster_map, cutoff)\n",
    "    pw_cd = pairwise_cluster_distances(cluster_map, diff_factor)\n",
    "    while(pw_cd.min() < tds):\n",
    "        index = pw_cd.argmin()\n",
    "        n_centers = len(centers)\n",
    "        i = int(index / n_centers)\n",
    "        j = index % n_centers\n",
    "        cluster_map.merge_cluster(i, j)\n",
    "        pw_cd[i][j] = np.inf\n",
    "        pw_cd[j][i] = np.inf\n",
    "    return diff_factor"
   ]
  },
  {
   "cell_type": "code",
   "execution_count": 150,
   "metadata": {},
   "outputs": [],
   "source": [
    "data = [\n",
    "    DataPoint(i, x, y)\n",
    "    for i, (x, y) in enumerate(zip(X, y))\n",
    "]\n",
    "# cutoff = 0.05\n",
    "cutoff = 0.15\n",
    "cluster_map = ClusterMapping(data)\n",
    "diff_factor = pre_clustering(cluster_map, cutoff)"
   ]
  },
  {
   "cell_type": "markdown",
   "metadata": {},
   "source": [
    "### Train Piecemeal"
   ]
  },
  {
   "cell_type": "code",
   "execution_count": 104,
   "metadata": {},
   "outputs": [],
   "source": [
    "def compute_decay(step, N):\n",
    "    return 1 - (step / N)\n",
    "\n",
    "def compute_radii(W):\n",
    "    dmatrix = sch.distance.pdist(W, metric=\"euclidean\")\n",
    "    smatrix = sch.distance.pdist(W, metric=\"cosine\")\n",
    "    radius_d = (max(dmatrix) - min(dmatrix)) / 2\n",
    "    radius_s = (max(smatrix) - min(smatrix)) / 2\n",
    "    return radius_d, radius_s\n",
    "\n",
    "def unit_distances(x, W):\n",
    "    x = x.reshape(1, -1)\n",
    "    W = W.copy()\n",
    "    d = np.sqrt(np.sum((x - W)**2, axis=1))\n",
    "    x = x / np.linalg.norm(x, axis=1)\n",
    "    W = W.T / np.linalg.norm(W, axis=1)\n",
    "    ### Same method as pdist\n",
    "    s = 1 - x.dot(W)\n",
    "    return d, s.reshape(-1)\n",
    "\n",
    "def train_som(X, W, N, alpha_0):\n",
    "    \"\"\"This is the modifed version of training Self-organizing map\n",
    "    Args:\n",
    "    - X: input data shape (m, n)\n",
    "    - W: weight matrix, in piecemeal, the weight matrix is the cluster centers\n",
    "    - alpha_0: learning rate\n",
    "    - N: number of iterations\n",
    "    \"\"\"\n",
    "    W = W.copy()\n",
    "    n_neurals = len(W)\n",
    "    n_samples = len(X)\n",
    "    print(f\"Number of neurals: {n_neurals}\")\n",
    "    rd_0, rs_0 = compute_radii(W)\n",
    "    for step in range(N):\n",
    "        rd = rd_0 * compute_decay(step, N)\n",
    "        rs = rs_0 * compute_decay(step, N)\n",
    "        alpha = alpha_0 * compute_decay(step, N)\n",
    "\n",
    "        x = X[np.random.choice(n_samples)]\n",
    "        ud, us = unit_distances(x, W)\n",
    "        for i, (cd, cs) in enumerate(zip(ud, us)):\n",
    "            if cd < rd and cs < rs:\n",
    "                i_d = np.exp((-cd**2) / (2*rd**2))\n",
    "                i_s = np.exp((-cs**2) / (2*rs**2))\n",
    "                influence = np.sqrt(i_d * i_s)\n",
    "                W[i] += alpha * influence * (x - W[i])\n",
    "    return W"
   ]
  },
  {
   "cell_type": "code",
   "execution_count": 151,
   "metadata": {},
   "outputs": [
    {
     "name": "stdout",
     "output_type": "stream",
     "text": [
      "Number of neurals: 7\n"
     ]
    },
    {
     "data": {
      "text/plain": [
       "0.9533333333333334"
      ]
     },
     "execution_count": 151,
     "metadata": {},
     "output_type": "execute_result"
    }
   ],
   "source": [
    "cluster_centers = cluster_map.get_all_centers()\n",
    "cluster_centers_values = np.array(list(cluster_centers.values()))\n",
    "cluster_centers_values = train_som(X, cluster_centers_values, 10000, 0.001)\n",
    "for k, v in zip(cluster_centers.keys(), cluster_centers_values):\n",
    "    cluster_centers[k] = v\n",
    "cluster_map.remap_cluster_indices(cluster_centers, diff_factor)\n",
    "cluster_map.get_mapping_accuracy()"
   ]
  },
  {
   "cell_type": "markdown",
   "metadata": {},
   "source": [
    "### Post Merging"
   ]
  },
  {
   "cell_type": "code",
   "execution_count": 140,
   "metadata": {},
   "outputs": [],
   "source": [
    "def count_element(clusters, c):\n",
    "    return sum(c == x for x in clusters)\n",
    "\n",
    "def calculate_min_inter_distance(cluster_map: ClusterMapping, cluster_centers, diff_factor):\n",
    "    clusters_items = cluster_map.get_clusters_items()\n",
    "    min_eij = 9999\n",
    "    best_pair = ()\n",
    "    for kj, items in clusters_items.items():\n",
    "        for dj in items:\n",
    "            dj = dj.x\n",
    "            max_ed = max([\n",
    "                sch.distance.pdist([dj, ci], metric=\"euclid\") for ki, ci in cluster_centers.items()\n",
    "                if ki != kj\n",
    "            ])\n",
    "\n",
    "            max_es = max([\n",
    "                sch.distance.pdist([dj, ci], metric=\"cosine\") for ki, ci in cluster_centers.items()\n",
    "                if ki != kj\n",
    "            ])\n",
    "\n",
    "            for ki, ci in cluster_centers.items():\n",
    "                if ki == kj: continue\n",
    "                if ki not in clusters_items: continue\n",
    "\n",
    "                # print(np.sqrt(len(clusters_items[ki])))\n",
    "                # print(np.sqrt(len(clusters_items[kj])))\n",
    "\n",
    "                ed = sch.distance.pdist([dj, ci], metric=\"euclid\") / max_ed\n",
    "                es = sch.distance.pdist([dj, ci], metric=\"cosine\") / max_es\n",
    "                en = np.sqrt(len(clusters_items[ki])) + np.sqrt(len(clusters_items[kj]))\n",
    "                eij = (1 + (ed / diff_factor)) * (1 + es) * (1 + en)\n",
    "                # print(kj, ki, eij)\n",
    "                if eij < min_eij:\n",
    "                    min_eij = eij\n",
    "                    best_pair = (ki, kj)\n",
    "    return best_pair, min_eij"
   ]
  },
  {
   "cell_type": "code",
   "execution_count": 208,
   "metadata": {},
   "outputs": [],
   "source": [
    "def max_min_dist(cluster_map: ClusterMapping):\n",
    "    clusters_items = cluster_map.get_clusters_items()\n",
    "    ratios = []\n",
    "    for items in clusters_items.values():\n",
    "        t = np.array([x.x for x in items])\n",
    "\n",
    "        # print(c, len(t))\n",
    "\n",
    "        if len(t) == 0:\n",
    "            continue\n",
    "\n",
    "        dist = sch.distance.pdist(t, metric=\"euclidean\")\n",
    "        r = max(dist) / min(dist)\n",
    "        if np.isinf(r):\n",
    "            r = 0\n",
    "        ratios.append(r)\n",
    "\n",
    "    return np.mean(ratios)"
   ]
  },
  {
   "cell_type": "code",
   "execution_count": 183,
   "metadata": {},
   "outputs": [],
   "source": [
    "result = []"
   ]
  },
  {
   "cell_type": "code",
   "execution_count": 184,
   "metadata": {},
   "outputs": [],
   "source": [
    "if len(cluster_map.get_clusters_labels()) > 2:\n",
    "    (src, tgt), eij = calculate_min_inter_distance(cluster_map, cluster_centers, diff_factor)\n",
    "    cluster_map.merge_cluster(src, tgt)\n",
    "    result.append({\n",
    "        \"iter\": len(result),\n",
    "        \"score\": max_min_dist(cluster_map),\n",
    "        \"n_cluster\": len(cluster_map.get_clusters_labels())\n",
    "    })\n",
    "    cluster_map.get_mapping_accuracy()"
   ]
  },
  {
   "cell_type": "code",
   "execution_count": 185,
   "metadata": {},
   "outputs": [
    {
     "data": {
      "text/plain": [
       "[]"
      ]
     },
     "execution_count": 185,
     "metadata": {},
     "output_type": "execute_result"
    }
   ],
   "source": [
    "result"
   ]
  },
  {
   "cell_type": "markdown",
   "metadata": {},
   "source": [
    "### Full flow"
   ]
  },
  {
   "cell_type": "code",
   "execution_count": 230,
   "metadata": {},
   "outputs": [
    {
     "name": "stdout",
     "output_type": "stream",
     "text": [
      "Number of neurals: 7\n"
     ]
    },
    {
     "name": "stderr",
     "output_type": "stream",
     "text": [
      "/tmp/ipykernel_71083/1453175118.py:13: RuntimeWarning: divide by zero encountered in scalar divide\n",
      "  r = max(dist) / min(dist)\n"
     ]
    }
   ],
   "source": [
    "cluster_map = ClusterMapping(data)\n",
    "diff_factor = pre_clustering(cluster_map, cutoff)\n",
    "cluster_centers = cluster_map.get_all_centers()\n",
    "cluster_centers_values = np.array(list(cluster_centers.values()))\n",
    "cluster_centers_values = train_som(X, cluster_centers_values, 10000, 0.001)\n",
    "for k, v in zip(cluster_centers.keys(), cluster_centers_values):\n",
    "    cluster_centers[k] = v\n",
    "cluster_map.remap_cluster_indices(cluster_centers, diff_factor)\n",
    "cluster_map.get_mapping_accuracy()\n",
    "result = []\n",
    "while len(cluster_map.get_clusters_labels()) > 2:\n",
    "    (src, tgt), eij = calculate_min_inter_distance(cluster_map, cluster_centers, diff_factor)\n",
    "    cluster_map.merge_cluster(src, tgt)\n",
    "    result.append({\n",
    "        \"Iter\": len(result),\n",
    "        \"Max-min\": max_min_dist(cluster_map),\n",
    "        \"N-Clusters\": len(cluster_map.get_clusters_labels()),\n",
    "        \"Mapping-Accuray\": cluster_map.get_mapping_accuracy()\n",
    "    })\n",
    "    "
   ]
  },
  {
   "cell_type": "code",
   "execution_count": 231,
   "metadata": {},
   "outputs": [
    {
     "data": {
      "text/plain": [
       "[{'Iter': 0,\n",
       "  'Max-min': 10.07848491444795,\n",
       "  'N-Clusters': 6,\n",
       "  'Mapping-Accuray': 0.9533333333333334},\n",
       " {'Iter': 1,\n",
       "  'Max-min': 12.72156060361024,\n",
       "  'N-Clusters': 5,\n",
       "  'Mapping-Accuray': 0.9533333333333334},\n",
       " {'Iter': 2,\n",
       "  'Max-min': 15.237838353731266,\n",
       "  'N-Clusters': 4,\n",
       "  'Mapping-Accuray': 0.9533333333333334},\n",
       " {'Iter': 3,\n",
       "  'Max-min': 17.12603020491026,\n",
       "  'N-Clusters': 3,\n",
       "  'Mapping-Accuray': 0.9533333333333334},\n",
       " {'Iter': 4,\n",
       "  'Max-min': 16.881863250494316,\n",
       "  'N-Clusters': 2,\n",
       "  'Mapping-Accuray': 0.6666666666666666}]"
      ]
     },
     "execution_count": 231,
     "metadata": {},
     "output_type": "execute_result"
    }
   ],
   "source": [
    "result"
   ]
  },
  {
   "cell_type": "code",
   "execution_count": 232,
   "metadata": {},
   "outputs": [
    {
     "data": {
      "text/plain": [
       "Text(0.5, 1.0, 'Average max-min euclid distance\\nBest N-Clusters: 3, Accuracy: 0.9533333333333334')"
      ]
     },
     "execution_count": 232,
     "metadata": {},
     "output_type": "execute_result"
    },
    {
     "data": {
      "image/png": "[encoded data removed]",
      "text/plain": [
       "<Figure size 500x300 with 1 Axes>"
      ]
     },
     "metadata": {},
     "output_type": "display_data"
    }
   ],
   "source": [
    "df = pd.DataFrame(result)\n",
    "index = df[\"Max-min\"].argmax()\n",
    "best = df[\"N-Clusters\"][index]\n",
    "acc = df[\"Mapping-Accuray\"][index]\n",
    "plt.figure(figsize=(5, 3))\n",
    "plt.plot(df[\"Iter\"], df[\"Max-min\"])\n",
    "plt.title(\n",
    "    \"Average max-min euclid distance\\n\"\n",
    "    f\"Best N-Clusters: {best}, Accuracy: {acc}\"\n",
    ")"
   ]
  },
  {
   "cell_type": "code",
   "execution_count": null,
   "metadata": {},
   "outputs": [],
   "source": []
  }
 ],
 "metadata": {
  "kernelspec": {
   "display_name": "base",
   "language": "python",
   "name": "python3"
  },
  "language_info": {
   "codemirror_mode": {
    "name": "ipython",
    "version": 3
   },
   "file_extension": ".py",
   "mimetype": "text/x-python",
   "name": "python",
   "nbconvert_exporter": "python",
   "pygments_lexer": "ipython3",
   "version": "3.11.6"
  }
 },
 "nbformat": 4,
 "nbformat_minor": 2
}
